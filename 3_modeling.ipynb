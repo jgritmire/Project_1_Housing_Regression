{
 "cells": [
  {
   "cell_type": "markdown",
   "id": "62f2df67",
   "metadata": {},
   "source": [
    "Import relevant packages"
   ]
  },
  {
   "cell_type": "code",
   "execution_count": 10,
   "id": "6026c6b2",
   "metadata": {},
   "outputs": [],
   "source": [
    "import pandas as pd\n",
    "import numpy as np\n",
    "import seaborn as sns\n",
    "import matplotlib.pyplot as plt\n",
    "\n",
    "from sklearn.linear_model import LinearRegression, LassoCV, RidgeCV, Ridge\n",
    "from sklearn.model_selection import train_test_split, cross_val_score, cross_val_predict\n",
    "from sklearn.preprocessing import PolynomialFeatures, StandardScaler\n",
    "from sklearn.metrics import r2_score\n",
    "from sklearn.metrics import mean_squared_error\n",
    "from sklearn.model_selection import cross_val_score"
   ]
  },
  {
   "cell_type": "markdown",
   "id": "326bed62",
   "metadata": {},
   "source": [
    "Import cleaned datasets"
   ]
  },
  {
   "cell_type": "code",
   "execution_count": 11,
   "id": "76c37d33",
   "metadata": {},
   "outputs": [],
   "source": [
    "housing = pd.read_csv('../datasets/housing_cleaned.csv')\n",
    "prediction_data = pd.read_csv('../datasets/test_cleaned.csv')\n",
    "\n",
    "prediction_id = prediction_data['id']"
   ]
  },
  {
   "cell_type": "code",
   "execution_count": 12,
   "id": "0bd83ad2",
   "metadata": {},
   "outputs": [],
   "source": [
    "# drop some unhelpful columns:\n",
    "housing = housing.drop(columns = ['pid', 'id', 'Unnamed: 0'])\n",
    "prediction_data = prediction_data.drop(columns = [\n",
    "    'saleprice','pid', 'id', 'Unnamed: 0'])"
   ]
  },
  {
   "cell_type": "markdown",
   "id": "3881ac9a",
   "metadata": {},
   "source": [
    "# Model Iteration 1 (Basic Linear Regression)"
   ]
  },
  {
   "cell_type": "markdown",
   "id": "a98e93d6",
   "metadata": {},
   "source": [
    "### Unscaled Linear Regression Model"
   ]
  },
  {
   "cell_type": "code",
   "execution_count": 13,
   "id": "6bcc0628",
   "metadata": {},
   "outputs": [],
   "source": [
    "#create our X and y\n",
    "\n",
    "X = housing.drop(columns = ['saleprice'], axis = 1)\n",
    "y = housing['saleprice']"
   ]
  },
  {
   "cell_type": "code",
   "execution_count": 14,
   "id": "5a4bb376",
   "metadata": {},
   "outputs": [],
   "source": [
    "#instantiate our lr model\n",
    "\n",
    "house_lr = LinearRegression()"
   ]
  },
  {
   "cell_type": "code",
   "execution_count": 15,
   "id": "b90574f6",
   "metadata": {},
   "outputs": [
    {
     "data": {
      "text/plain": [
       "LinearRegression()"
      ]
     },
     "execution_count": 15,
     "metadata": {},
     "output_type": "execute_result"
    }
   ],
   "source": [
    "house_lr.fit(X, y)"
   ]
  },
  {
   "cell_type": "code",
   "execution_count": 16,
   "id": "cd8eeb05",
   "metadata": {},
   "outputs": [
    {
     "data": {
      "text/plain": [
       "array([0.88173682, 0.90569568, 0.90198469, 0.89498138, 0.88319144])"
      ]
     },
     "execution_count": 16,
     "metadata": {},
     "output_type": "execute_result"
    }
   ],
   "source": [
    "cross_val_score(house_lr, X, y)"
   ]
  },
  {
   "cell_type": "code",
   "execution_count": 17,
   "id": "650cf982",
   "metadata": {},
   "outputs": [],
   "source": [
    "#confidence interval for r2\n",
    "#I have commented these cells out because they run VERY slowly\n",
    "\n",
    "# mean = cross_val_score(house_lr, X, y).mean()\n",
    "# std = np.std(cross_val_score(house_lr, X, y))\n",
    "# mean - 2*std, mean + 2* std"
   ]
  },
  {
   "cell_type": "markdown",
   "id": "bd0e3818",
   "metadata": {},
   "source": [
    "We likely have some outliers in our data since we see a large range of r2 values"
   ]
  },
  {
   "cell_type": "code",
   "execution_count": 18,
   "id": "3732531b",
   "metadata": {
    "scrolled": false
   },
   "outputs": [
    {
     "data": {
      "text/plain": [
       "604244196.3832476"
      ]
     },
     "execution_count": 18,
     "metadata": {},
     "output_type": "execute_result"
    }
   ],
   "source": [
    "#check MSE\n",
    "mean_squared_error(y, house_lr.predict(X))"
   ]
  },
  {
   "cell_type": "code",
   "execution_count": 19,
   "id": "b530d0a6",
   "metadata": {},
   "outputs": [
    {
     "data": {
      "text/plain": [
       "24581.379057799983"
      ]
     },
     "execution_count": 19,
     "metadata": {},
     "output_type": "execute_result"
    }
   ],
   "source": [
    "#check the RMSE\n",
    "np.sqrt(mean_squared_error(y, house_lr.predict(X)))"
   ]
  },
  {
   "cell_type": "code",
   "execution_count": 20,
   "id": "cabc59ed",
   "metadata": {},
   "outputs": [],
   "source": [
    "#plot the residuals\n",
    "lr_error = house_lr.predict(X) - y"
   ]
  },
  {
   "cell_type": "code",
   "execution_count": 21,
   "id": "2ae61351",
   "metadata": {
    "scrolled": true
   },
   "outputs": [
    {
     "data": {
      "text/plain": [
       "Text(0.5, 0, 'Actual Sale Price ($)')"
      ]
     },
     "execution_count": 21,
     "metadata": {},
     "output_type": "execute_result"
    },
    {
     "data": {
      "image/png": "[encoded data removed]",
      "text/plain": [
       "<Figure size 432x288 with 1 Axes>"
      ]
     },
     "metadata": {
      "needs_background": "light"
     },
     "output_type": "display_data"
    }
   ],
   "source": [
    "plt.scatter(y, lr_error)\n",
    "plt.axhline(0, color = 'red')\n",
    "plt.title('Sale Price vs Model Error (Linear Model, All Variables)')\n",
    "plt.ylabel('Error ($)')\n",
    "plt.xlabel('Actual Sale Price ($)')\n"
   ]
  },
  {
   "cell_type": "code",
   "execution_count": 22,
   "id": "69a58271",
   "metadata": {},
   "outputs": [
    {
     "name": "stderr",
     "output_type": "stream",
     "text": [
      "<ipython-input-22-69273a9dde35>:8: MatplotlibDeprecationWarning: Adding an axes using the same arguments as a previous axes currently reuses the earlier instance.  In a future version, a new instance will always be created and returned.  Meanwhile, this warning can be suppressed, and the future behavior ensured, by passing a unique label to each axes instance.\n",
      "  ax = plt.axes()\n"
     ]
    },
    {
     "data": {
      "text/plain": [
       "[<matplotlib.lines.Line2D at 0x25470581b80>]"
      ]
     },
     "execution_count": 22,
     "metadata": {},
     "output_type": "execute_result"
    },
    {
     "data": {
      "image/png": "[encoded data removed]",
      "text/plain": [
       "<Figure size 432x288 with 1 Axes>"
      ]
     },
     "metadata": {
      "needs_background": "light"
     },
     "output_type": "display_data"
    }
   ],
   "source": [
    "#check the predictions against actual values\n",
    "plt.scatter(y, house_lr.predict(X))\n",
    "plt.title(\n",
    "    'Predicted Sale Price vs Actual Sale Price (Linear Model, All Variables)')\n",
    "plt.xlabel('Actual Sale Price')\n",
    "plt.ylabel('Predicted Sale Price')\n",
    "\n",
    "ax = plt.axes()\n",
    "ax.plot([0,500000], [0,500000], color = 'red')"
   ]
  },
  {
   "cell_type": "markdown",
   "id": "0295eaad",
   "metadata": {},
   "source": [
    "### Using Lasso to Correct Overfitting"
   ]
  },
  {
   "cell_type": "code",
   "execution_count": 23,
   "id": "f993e7e5",
   "metadata": {},
   "outputs": [],
   "source": [
    "#Scale the data\n",
    "\n",
    "ss = StandardScaler()\n",
    "Z_train = ss.fit_transform(X)"
   ]
  },
  {
   "cell_type": "code",
   "execution_count": 24,
   "id": "ee160233",
   "metadata": {
    "scrolled": true
   },
   "outputs": [
    {
     "data": {
      "text/plain": [
       "LassoCV(alphas=array([1.00000000e-005, 1.27381132e-005, 1.62259529e-005, 2.06688025e-005,\n",
       "       2.63281547e-005, 3.35371015e-005, 4.27199397e-005, 5.44171429e-005,\n",
       "       6.93171728e-005, 8.82969996e-005, 1.12473718e-004, 1.43270295e-004,\n",
       "       1.82499324e-004, 2.32469706e-004, 2.96122544e-004, 3.77204249e-004,\n",
       "       4.80487044e-004, 6.12049837e-004, 7.79636013e-004, 9.93109181e-004,\n",
       "       1.265033...\n",
       "       3.82456972e+097, 4.87178022e+097, 6.20572881e+097, 7.90492762e+097,\n",
       "       1.00693863e+098, 1.28264983e+098, 1.63385388e+098, 2.08122157e+098,\n",
       "       2.65108360e+098, 3.37698031e+098, 4.30163576e+098, 5.47947234e+098,\n",
       "       6.97981391e+098, 8.89096599e+098, 1.13254132e+099, 1.44264395e+099,\n",
       "       1.83765620e+099, 2.34082728e+099, 2.98177229e+099, 3.79821531e+099,\n",
       "       4.83820966e+099, 6.16296626e+099, 7.85045620e+099, 1.00000000e+100]),\n",
       "        cv=5, max_iter=100000)"
      ]
     },
     "execution_count": 24,
     "metadata": {},
     "output_type": "execute_result"
    }
   ],
   "source": [
    "#Create a list of possible alphas\n",
    "lasso_alphas = np.logspace(-5, 100, 1000)\n",
    "\n",
    "#Instantiate our Lasso Model\n",
    "lasso_cv = LassoCV(alphas = lasso_alphas, cv = 5, max_iter = 100000)\n",
    "\n",
    "#train our model\n",
    "lasso_cv.fit(Z_train, y)"
   ]
  },
  {
   "cell_type": "code",
   "execution_count": 25,
   "id": "0add60a7",
   "metadata": {},
   "outputs": [
    {
     "data": {
      "text/plain": [
       "178.75255259042353"
      ]
     },
     "execution_count": 25,
     "metadata": {},
     "output_type": "execute_result"
    }
   ],
   "source": [
    "lasso_cv.alpha_"
   ]
  },
  {
   "cell_type": "code",
   "execution_count": 26,
   "id": "e7977ee2",
   "metadata": {},
   "outputs": [
    {
     "data": {
      "text/plain": [
       "array([0.88045703, 0.9027916 , 0.89934699, 0.89577136, 0.88466186])"
      ]
     },
     "execution_count": 26,
     "metadata": {},
     "output_type": "execute_result"
    }
   ],
   "source": [
    "cross_val_score(lasso_cv, X, y)"
   ]
  },
  {
   "cell_type": "code",
   "execution_count": 27,
   "id": "36f0e3ee",
   "metadata": {},
   "outputs": [],
   "source": [
    "#confidence interval for r2\n",
    "#I have commented these cells out because they run VERY slowly\n",
    "\n",
    "# mean = cross_val_score(lasso_cv, X, y).mean()\n",
    "# std = np.std(cross_val_score(lasso_cv, X, y))\n",
    "# mean - 2*std, mean + 2* std"
   ]
  },
  {
   "cell_type": "code",
   "execution_count": 28,
   "id": "3c13cf47",
   "metadata": {},
   "outputs": [
    {
     "data": {
      "text/plain": [
       "24680.891530678262"
      ]
     },
     "execution_count": 28,
     "metadata": {},
     "output_type": "execute_result"
    }
   ],
   "source": [
    "#RMSE\n",
    "\n",
    "np.sqrt(mean_squared_error(y, lasso_cv.predict(Z_train)))"
   ]
  },
  {
   "cell_type": "code",
   "execution_count": 29,
   "id": "f2c25de9",
   "metadata": {},
   "outputs": [],
   "source": [
    "#Create a list displaying all the coefficients of our new model\n",
    "\n",
    "terms_zero = list(zip(X.columns, lasso_cv.coef_))"
   ]
  },
  {
   "cell_type": "code",
   "execution_count": 30,
   "id": "612d3ee3",
   "metadata": {},
   "outputs": [],
   "source": [
    "#create a list of terms that we can drop from our DF\n",
    "\n",
    "terms_to_zero = []\n",
    "for item_pair in terms_zero:\n",
    "    if item_pair[1] == 0:\n",
    "        terms_to_zero.append(item_pair[0])"
   ]
  },
  {
   "cell_type": "code",
   "execution_count": 31,
   "id": "f58cb9be",
   "metadata": {},
   "outputs": [
    {
     "data": {
      "text/plain": [
       "['street',\n",
       " 'exterior_2nd',\n",
       " 'paved_drive',\n",
       " 'misc_val',\n",
       " 'mo_sold',\n",
       " 'has_pool',\n",
       " 'neighborhood_Edwards',\n",
       " 'neighborhood_Greens',\n",
       " 'neighborhood_Sawyer']"
      ]
     },
     "execution_count": 31,
     "metadata": {},
     "output_type": "execute_result"
    }
   ],
   "source": [
    "terms_to_zero"
   ]
  },
  {
   "cell_type": "code",
   "execution_count": 32,
   "id": "b78a0731",
   "metadata": {},
   "outputs": [],
   "source": [
    "#Drop the terms that got zeroed out by our Lasso"
   ]
  },
  {
   "cell_type": "code",
   "execution_count": 33,
   "id": "17cdd50a",
   "metadata": {},
   "outputs": [],
   "source": [
    "lasso_reduced_df = housing.drop(columns = terms_to_zero)"
   ]
  },
  {
   "cell_type": "markdown",
   "id": "7a2adf73",
   "metadata": {},
   "source": [
    "### doing a basic linear regression with our newly reduced DF"
   ]
  },
  {
   "cell_type": "code",
   "execution_count": 34,
   "id": "d97357f5",
   "metadata": {},
   "outputs": [],
   "source": [
    "#create our X and y\n",
    "\n",
    "X = lasso_reduced_df.drop(columns = ['saleprice'], axis = 1)\n",
    "y = lasso_reduced_df['saleprice']"
   ]
  },
  {
   "cell_type": "code",
   "execution_count": 35,
   "id": "88310de5",
   "metadata": {},
   "outputs": [],
   "source": [
    "#Scale the data\n",
    "\n",
    "ss = StandardScaler()\n",
    "Z_train = ss.fit_transform(X)"
   ]
  },
  {
   "cell_type": "code",
   "execution_count": 36,
   "id": "984534dd",
   "metadata": {},
   "outputs": [],
   "source": [
    "#instantiate our lr model\n",
    "\n",
    "house_lr2 = LinearRegression()"
   ]
  },
  {
   "cell_type": "code",
   "execution_count": 37,
   "id": "a16513cf",
   "metadata": {},
   "outputs": [
    {
     "data": {
      "text/plain": [
       "LinearRegression()"
      ]
     },
     "execution_count": 37,
     "metadata": {},
     "output_type": "execute_result"
    }
   ],
   "source": [
    "#fit the model\n",
    "\n",
    "house_lr2.fit(Z_train, y)"
   ]
  },
  {
   "cell_type": "code",
   "execution_count": 38,
   "id": "f639235b",
   "metadata": {},
   "outputs": [
    {
     "data": {
      "text/plain": [
       "array([0.88200979, 0.90627387, 0.90221059, 0.89609873, 0.88542794])"
      ]
     },
     "execution_count": 38,
     "metadata": {},
     "output_type": "execute_result"
    }
   ],
   "source": [
    "#cross val score\n",
    "\n",
    "cross_val_score(house_lr2, Z_train, y)"
   ]
  },
  {
   "cell_type": "code",
   "execution_count": 39,
   "id": "7030b053",
   "metadata": {},
   "outputs": [
    {
     "data": {
      "text/plain": [
       "24617.51828110314"
      ]
     },
     "execution_count": 39,
     "metadata": {},
     "output_type": "execute_result"
    }
   ],
   "source": [
    "#MSE\n",
    "np.sqrt(mean_squared_error(y, house_lr2.predict(Z_train)))"
   ]
  },
  {
   "cell_type": "markdown",
   "id": "0c2d5042",
   "metadata": {},
   "source": [
    "### making predictions for submission"
   ]
  },
  {
   "cell_type": "code",
   "execution_count": 40,
   "id": "97f9a1b2",
   "metadata": {},
   "outputs": [],
   "source": [
    "testcols = list(prediction_data.columns)\n",
    "traincols = list(X.columns)\n",
    "no_overlap = []\n",
    "\n",
    "for col in testcols:\n",
    "    if col not in traincols:\n",
    "        no_overlap.append(col)\n",
    "        \n",
    "prediction_data1 = prediction_data.drop(columns = no_overlap)"
   ]
  },
  {
   "cell_type": "code",
   "execution_count": 41,
   "id": "a0a9683d",
   "metadata": {},
   "outputs": [],
   "source": [
    "predictions = house_lr2.predict(ss.fit_transform(prediction_data1))\n",
    "\n",
    "submission_2 = pd.DataFrame(zip(prediction_id, predictions))\n",
    "\n",
    "submission_2.rename(columns = {0:'Id', 1:'SalePrice'}, inplace = True)\n",
    "\n",
    "submission_2.to_csv(\n",
    "    '../submission predictions/Prediction2.csv', index = False)"
   ]
  },
  {
   "cell_type": "markdown",
   "id": "1a756538",
   "metadata": {},
   "source": [
    "Doing a regression with 63 columns on so few observations feels like a case of overfitting. I do not feel that lasso has removed enough variables and so I will examine the results of a ridge regression to see if that changes anything. "
   ]
  },
  {
   "cell_type": "markdown",
   "id": "373c250d",
   "metadata": {},
   "source": [
    "# Ridge Regression"
   ]
  },
  {
   "cell_type": "code",
   "execution_count": 42,
   "id": "2949a72d",
   "metadata": {},
   "outputs": [],
   "source": [
    "#create and transform our X and y\n",
    "\n",
    "X = housing.drop(columns = ['saleprice'])\n",
    "y = housing['saleprice']\n",
    "\n",
    "ss = StandardScaler()\n",
    "Z_train = ss.fit_transform(X)\n",
    "\n"
   ]
  },
  {
   "cell_type": "code",
   "execution_count": 43,
   "id": "d6af81ff",
   "metadata": {},
   "outputs": [],
   "source": [
    "#create list of possible alphas\n",
    "ridge_alphas = np.logspace(0, 20, 200)\n",
    "\n",
    "#instantiate model\n",
    "ridge_cv = RidgeCV(alphas = ridge_alphas, scoring = 'r2', cv = 5)"
   ]
  },
  {
   "cell_type": "code",
   "execution_count": 44,
   "id": "d38b70e7",
   "metadata": {
    "scrolled": true
   },
   "outputs": [
    {
     "data": {
      "text/plain": [
       "RidgeCV(alphas=array([1.00000000e+00, 1.26038293e+00, 1.58856513e+00, 2.00220037e+00,\n",
       "       2.52353917e+00, 3.18062569e+00, 4.00880633e+00, 5.05263107e+00,\n",
       "       6.36824994e+00, 8.02643352e+00, 1.01163798e+01, 1.27505124e+01,\n",
       "       1.60705282e+01, 2.02550194e+01, 2.55290807e+01, 3.21764175e+01,\n",
       "       4.05546074e+01, 5.11143348e+01, 6.44236351e+01, 8.11984499e+01,\n",
       "       1.02341140e+02, 1.28989026e+0...\n",
       "       4.88025158e+17, 6.15098579e+17, 7.75259749e+17, 9.77124154e+17,\n",
       "       1.23155060e+18, 1.55222536e+18, 1.95639834e+18, 2.46581108e+18,\n",
       "       3.10786619e+18, 3.91710149e+18, 4.93704785e+18, 6.22257084e+18,\n",
       "       7.84282206e+18, 9.88495905e+18, 1.24588336e+19, 1.57029012e+19,\n",
       "       1.97916687e+19, 2.49450814e+19, 3.14403547e+19, 3.96268864e+19,\n",
       "       4.99450512e+19, 6.29498899e+19, 7.93409667e+19, 1.00000000e+20]),\n",
       "        cv=5, scoring='r2')"
      ]
     },
     "execution_count": 44,
     "metadata": {},
     "output_type": "execute_result"
    }
   ],
   "source": [
    "#fit our model\n",
    "\n",
    "ridge_cv.fit(Z_train, y)"
   ]
  },
  {
   "cell_type": "code",
   "execution_count": 45,
   "id": "7fb7ed33",
   "metadata": {},
   "outputs": [
    {
     "data": {
      "text/plain": [
       "array([0.88199718, 0.90605642, 0.90126687, 0.89592075, 0.88378822])"
      ]
     },
     "execution_count": 45,
     "metadata": {},
     "output_type": "execute_result"
    }
   ],
   "source": [
    "cross_val_score(ridge_cv, Z_train, y)"
   ]
  },
  {
   "cell_type": "code",
   "execution_count": 46,
   "id": "f7e3b892",
   "metadata": {},
   "outputs": [],
   "source": [
    "#confidence interval for r2\n",
    "#I have commented these cells out because they run VERY slowly\n",
    "\n",
    "# mean = cross_val_score(ridge_cv, X, y).mean()\n",
    "# std = np.std(cross_val_score(ridge_cv, X, y))\n",
    "# mean - 2*std, mean + 2* std"
   ]
  },
  {
   "cell_type": "code",
   "execution_count": 47,
   "id": "a7f9e656",
   "metadata": {
    "scrolled": true
   },
   "outputs": [
    {
     "data": {
      "text/plain": [
       "24609.69281140888"
      ]
     },
     "execution_count": 47,
     "metadata": {},
     "output_type": "execute_result"
    }
   ],
   "source": [
    "#MSE\n",
    "np.sqrt(mean_squared_error(y, ridge_cv.predict(Z_train)))"
   ]
  },
  {
   "cell_type": "code",
   "execution_count": 48,
   "id": "02344c9a",
   "metadata": {
    "scrolled": false
   },
   "outputs": [],
   "source": [
    "coeffs = list(zip(X.columns, ridge_cv.coef_))"
   ]
  },
  {
   "cell_type": "code",
   "execution_count": 49,
   "id": "239fa586",
   "metadata": {},
   "outputs": [],
   "source": [
    "testcols = list(prediction_data.columns)\n",
    "traincols = list(X.columns)\n",
    "no_overlap = []\n",
    "\n",
    "for col in testcols:\n",
    "    if col not in traincols:\n",
    "        no_overlap.append(col)\n",
    "\n",
    "prediction_data1 = prediction_data.drop(columns = no_overlap)"
   ]
  },
  {
   "cell_type": "code",
   "execution_count": 50,
   "id": "4113ce8a",
   "metadata": {},
   "outputs": [],
   "source": [
    "predictions = ridge_cv.predict(ss.fit_transform(prediction_data1))\n",
    "\n",
    "submission_4 = pd.DataFrame(zip(prediction_id, predictions))\n",
    "\n",
    "submission_4.rename(columns = {0:'Id', 1:'SalePrice'}, inplace = True)\n",
    "\n",
    "submission_4.to_csv(\n",
    "    '../submission predictions/prediction4.csv', index = False)"
   ]
  },
  {
   "cell_type": "markdown",
   "id": "e4c78541",
   "metadata": {},
   "source": [
    "Ridge regression does not seem to zero out our terms aggressively enough, and I am hoping to create a model with far fewer variables for simplicity of interpretation and ease of use. I will next attempt to create a model, dropping irrelevant variables based on their correllation with the dependent variable. "
   ]
  },
  {
   "cell_type": "markdown",
   "id": "75b23292",
   "metadata": {},
   "source": [
    "# Dropping variables manually by examining corellation"
   ]
  },
  {
   "cell_type": "code",
   "execution_count": 51,
   "id": "5c88ecd6",
   "metadata": {
    "scrolled": true
   },
   "outputs": [
    {
     "data": {
      "text/plain": [
       "<AxesSubplot:>"
      ]
     },
     "execution_count": 51,
     "metadata": {},
     "output_type": "execute_result"
    },
    {
     "data": {
      "image/png": "[encoded data removed]",
      "text/plain": [
       "<Figure size 1080x1080 with 2 Axes>"
      ]
     },
     "metadata": {},
     "output_type": "display_data"
    }
   ],
   "source": [
    "sns.set_style('dark')\n",
    "plt.figure(figsize=(15,15))\n",
    "correlation = lasso_reduced_df.corr()[['saleprice']].sort_values('saleprice')\n",
    "sns.heatmap(data = correlation,\n",
    "    vmin= -1,\n",
    "    vmax= 1,\n",
    "    cmap= 'coolwarm',\n",
    "    annot=True,\n",
    ")"
   ]
  },
  {
   "cell_type": "markdown",
   "id": "5df2335f",
   "metadata": {},
   "source": [
    "We currently have a huge number of terms, even after dropping some using lasso. I will be selecting a semi-arbitrary cutoff of |0.2|, and dropping terms that do not meet this criteria"
   ]
  },
  {
   "cell_type": "code",
   "execution_count": 52,
   "id": "8fa5f593",
   "metadata": {},
   "outputs": [],
   "source": [
    "correlation = pd.DataFrame(lasso_reduced_df.corr()[['saleprice']])\n",
    "correlation['variable'] = lasso_reduced_df.columns\n",
    "correlation.rename(columns = {'saleprice':'corr'}, inplace = True)"
   ]
  },
  {
   "cell_type": "code",
   "execution_count": 53,
   "id": "94bd0fc1",
   "metadata": {},
   "outputs": [],
   "source": [
    "low_corr = correlation[correlation['corr'] < 0.2]"
   ]
  },
  {
   "cell_type": "code",
   "execution_count": 54,
   "id": "33764184",
   "metadata": {},
   "outputs": [],
   "source": [
    "low_corr_drop = list(low_corr['variable'])"
   ]
  },
  {
   "cell_type": "code",
   "execution_count": 55,
   "id": "e829783c",
   "metadata": {},
   "outputs": [],
   "source": [
    "#drop the low correlation variables\n",
    "housing_high_corr = lasso_reduced_df.drop(columns = low_corr_drop, axis = 1)"
   ]
  },
  {
   "cell_type": "markdown",
   "id": "3ae104a9",
   "metadata": {},
   "source": [
    "# Linear Model with high corr variables only"
   ]
  },
  {
   "cell_type": "code",
   "execution_count": 56,
   "id": "2405430e",
   "metadata": {},
   "outputs": [
    {
     "data": {
      "text/plain": [
       "LinearRegression()"
      ]
     },
     "execution_count": 56,
     "metadata": {},
     "output_type": "execute_result"
    }
   ],
   "source": [
    "#instantiate model\n",
    "housing_lr3 = LinearRegression()\n",
    "\n",
    "#create X and y\n",
    "X = housing_high_corr.drop(columns = ['saleprice'])\n",
    "y = housing_high_corr['saleprice']\n",
    "\n",
    "Z = ss.fit_transform(X)\n",
    "#fit model\n",
    "housing_lr3.fit(Z, y)"
   ]
  },
  {
   "cell_type": "code",
   "execution_count": 57,
   "id": "9834f742",
   "metadata": {},
   "outputs": [
    {
     "data": {
      "image/png": "[encoded data removed]",
      "text/plain": [
       "<Figure size 864x576 with 1 Axes>"
      ]
     },
     "metadata": {},
     "output_type": "display_data"
    }
   ],
   "source": [
    "#examine the residuals\n",
    "lr_error = y - housing_lr3.predict(Z)\n",
    "plt.figure(figsize=(12,8))\n",
    "plt.scatter(y, lr_error, alpha = 0.3)\n",
    "plt.axhline(0, color = 'red')\n",
    "plt.title('Sale Price vs Model Error (Linear Model, High Corr Variables)')\n",
    "plt.ylabel('Error ($)')\n",
    "plt.xlabel('Actual Sale Price ($)')\n",
    "plt.savefig('../figures/saleprce_modelerror_highcorr', transparent = True)"
   ]
  },
  {
   "cell_type": "code",
   "execution_count": 58,
   "id": "4aa53d8e",
   "metadata": {
    "scrolled": false
   },
   "outputs": [
    {
     "name": "stderr",
     "output_type": "stream",
     "text": [
      "<ipython-input-58-42e9ad1f1fe9>:9: MatplotlibDeprecationWarning: Adding an axes using the same arguments as a previous axes currently reuses the earlier instance.  In a future version, a new instance will always be created and returned.  Meanwhile, this warning can be suppressed, and the future behavior ensured, by passing a unique label to each axes instance.\n",
      "  ax = plt.axes()\n"
     ]
    },
    {
     "data": {
      "image/png": "[encoded data removed]",
      "text/plain": [
       "<Figure size 864x576 with 1 Axes>"
      ]
     },
     "metadata": {},
     "output_type": "display_data"
    }
   ],
   "source": [
    "#check the predictions against the actual prices\n",
    "plt.figure(figsize=(12,8))\n",
    "plt.scatter(y, housing_lr3.predict(Z), alpha = 0.3)\n",
    "plt.title(\n",
    "    'Predicted Sale Price vs Actual Sale Price (Linear Model, High Corr Variables)')\n",
    "plt.xlabel('Actual Sale Price')\n",
    "plt.ylabel('Predicted Sale Price')\n",
    "\n",
    "ax = plt.axes()\n",
    "ax.plot([0,500000], [0,500000], color = 'red')\n",
    "plt.savefig('../figures/actual_predicted_highcorr', transparent = True)\n"
   ]
  },
  {
   "cell_type": "markdown",
   "id": "f7e8a71b",
   "metadata": {},
   "source": [
    "We still see our model struggling to predict the Sale Price of expensive homes. Next I will try including some interaction terms to see how it impacts our models performance."
   ]
  },
  {
   "cell_type": "code",
   "execution_count": 59,
   "id": "2da1ae83",
   "metadata": {},
   "outputs": [
    {
     "data": {
      "text/plain": [
       "(2047, 28)"
      ]
     },
     "execution_count": 59,
     "metadata": {},
     "output_type": "execute_result"
    }
   ],
   "source": [
    "X.shape"
   ]
  },
  {
   "cell_type": "code",
   "execution_count": 60,
   "id": "74cd5ff6",
   "metadata": {},
   "outputs": [
    {
     "data": {
      "text/plain": [
       "array([0.86672094, 0.87072171, 0.88759836, 0.88671126, 0.87693098])"
      ]
     },
     "execution_count": 60,
     "metadata": {},
     "output_type": "execute_result"
    }
   ],
   "source": [
    "#check the cross val scores of our new model\n",
    "cross_val_score(housing_lr3, Z, y, cv = 5)"
   ]
  },
  {
   "cell_type": "code",
   "execution_count": 61,
   "id": "032e0799",
   "metadata": {},
   "outputs": [],
   "source": [
    "#confidence interval for r2\n",
    "#I have commented these cells out because they run VERY slowly\n",
    "\n",
    "# mean = cross_val_score(housing_lr3, X, y).mean()\n",
    "# std = np.std(cross_val_score(housing_lr3, X, y))\n",
    "# mean - 2*std, mean + 2* std"
   ]
  },
  {
   "cell_type": "code",
   "execution_count": 62,
   "id": "0409ddb8",
   "metadata": {
    "scrolled": true
   },
   "outputs": [
    {
     "data": {
      "text/plain": [
       "26828.558483240544"
      ]
     },
     "execution_count": 62,
     "metadata": {},
     "output_type": "execute_result"
    }
   ],
   "source": [
    "#RMSE\n",
    "np.sqrt(mean_squared_error(y, housing_lr3.predict(Z)))"
   ]
  },
  {
   "cell_type": "code",
   "execution_count": 63,
   "id": "69026efe",
   "metadata": {
    "scrolled": false
   },
   "outputs": [
    {
     "data": {
      "text/html": [
       "<div>\n",
       "<style scoped>\n",
       "    .dataframe tbody tr th:only-of-type {\n",
       "        vertical-align: middle;\n",
       "    }\n",
       "\n",
       "    .dataframe tbody tr th {\n",
       "        vertical-align: top;\n",
       "    }\n",
       "\n",
       "    .dataframe thead th {\n",
       "        text-align: right;\n",
       "    }\n",
       "</style>\n",
       "<table border=\"1\" class=\"dataframe\">\n",
       "  <thead>\n",
       "    <tr style=\"text-align: right;\">\n",
       "      <th></th>\n",
       "      <th>Variable Name</th>\n",
       "      <th>Coefficient</th>\n",
       "    </tr>\n",
       "  </thead>\n",
       "  <tbody>\n",
       "    <tr>\n",
       "      <th>15</th>\n",
       "      <td>gr_liv_area</td>\n",
       "      <td>21369.734838</td>\n",
       "    </tr>\n",
       "    <tr>\n",
       "      <th>1</th>\n",
       "      <td>overall_qual</td>\n",
       "      <td>18003.621796</td>\n",
       "    </tr>\n",
       "    <tr>\n",
       "      <th>24</th>\n",
       "      <td>finished_bsmt_sqft</td>\n",
       "      <td>10926.232298</td>\n",
       "    </tr>\n",
       "    <tr>\n",
       "      <th>26</th>\n",
       "      <td>neighborhood_NridgHt</td>\n",
       "      <td>8908.029089</td>\n",
       "    </tr>\n",
       "    <tr>\n",
       "      <th>12</th>\n",
       "      <td>total_bsmt_sf</td>\n",
       "      <td>8153.299691</td>\n",
       "    </tr>\n",
       "    <tr>\n",
       "      <th>27</th>\n",
       "      <td>neighborhood_StoneBr</td>\n",
       "      <td>6993.912477</td>\n",
       "    </tr>\n",
       "    <tr>\n",
       "      <th>3</th>\n",
       "      <td>year_built</td>\n",
       "      <td>6939.877823</td>\n",
       "    </tr>\n",
       "    <tr>\n",
       "      <th>8</th>\n",
       "      <td>mas_vnr_area</td>\n",
       "      <td>6855.485829</td>\n",
       "    </tr>\n",
       "    <tr>\n",
       "      <th>20</th>\n",
       "      <td>garage_area</td>\n",
       "      <td>6674.267434</td>\n",
       "    </tr>\n",
       "    <tr>\n",
       "      <th>0</th>\n",
       "      <td>lot_area</td>\n",
       "      <td>6300.917466</td>\n",
       "    </tr>\n",
       "    <tr>\n",
       "      <th>4</th>\n",
       "      <td>year_remod/add</td>\n",
       "      <td>6156.338995</td>\n",
       "    </tr>\n",
       "    <tr>\n",
       "      <th>19</th>\n",
       "      <td>garage_finish</td>\n",
       "      <td>3661.678114</td>\n",
       "    </tr>\n",
       "    <tr>\n",
       "      <th>21</th>\n",
       "      <td>deck_space</td>\n",
       "      <td>3508.501833</td>\n",
       "    </tr>\n",
       "    <tr>\n",
       "      <th>10</th>\n",
       "      <td>foundation</td>\n",
       "      <td>3400.818010</td>\n",
       "    </tr>\n",
       "    <tr>\n",
       "      <th>18</th>\n",
       "      <td>fireplaces</td>\n",
       "      <td>3317.378042</td>\n",
       "    </tr>\n",
       "    <tr>\n",
       "      <th>9</th>\n",
       "      <td>exter_qual</td>\n",
       "      <td>3268.907910</td>\n",
       "    </tr>\n",
       "    <tr>\n",
       "      <th>2</th>\n",
       "      <td>overall_cond</td>\n",
       "      <td>3059.445969</td>\n",
       "    </tr>\n",
       "    <tr>\n",
       "      <th>25</th>\n",
       "      <td>neighborhood_NoRidge</td>\n",
       "      <td>2881.271685</td>\n",
       "    </tr>\n",
       "    <tr>\n",
       "      <th>5</th>\n",
       "      <td>roof_style</td>\n",
       "      <td>2703.932072</td>\n",
       "    </tr>\n",
       "    <tr>\n",
       "      <th>16</th>\n",
       "      <td>kitchen_qual</td>\n",
       "      <td>2362.303145</td>\n",
       "    </tr>\n",
       "    <tr>\n",
       "      <th>17</th>\n",
       "      <td>totrms_abvgrd</td>\n",
       "      <td>1033.723737</td>\n",
       "    </tr>\n",
       "    <tr>\n",
       "      <th>22</th>\n",
       "      <td>half_bath_tot</td>\n",
       "      <td>-441.903684</td>\n",
       "    </tr>\n",
       "    <tr>\n",
       "      <th>13</th>\n",
       "      <td>central_air</td>\n",
       "      <td>-872.500880</td>\n",
       "    </tr>\n",
       "    <tr>\n",
       "      <th>14</th>\n",
       "      <td>electrical</td>\n",
       "      <td>-1481.851262</td>\n",
       "    </tr>\n",
       "    <tr>\n",
       "      <th>23</th>\n",
       "      <td>full_bath_tot</td>\n",
       "      <td>-1639.008952</td>\n",
       "    </tr>\n",
       "    <tr>\n",
       "      <th>6</th>\n",
       "      <td>exterior_1st</td>\n",
       "      <td>-2156.299772</td>\n",
       "    </tr>\n",
       "    <tr>\n",
       "      <th>11</th>\n",
       "      <td>bsmt_qual</td>\n",
       "      <td>-2528.514018</td>\n",
       "    </tr>\n",
       "    <tr>\n",
       "      <th>7</th>\n",
       "      <td>mas_vnr_type</td>\n",
       "      <td>-4115.357739</td>\n",
       "    </tr>\n",
       "  </tbody>\n",
       "</table>\n",
       "</div>"
      ],
      "text/plain": [
       "           Variable Name   Coefficient\n",
       "15           gr_liv_area  21369.734838\n",
       "1           overall_qual  18003.621796\n",
       "24    finished_bsmt_sqft  10926.232298\n",
       "26  neighborhood_NridgHt   8908.029089\n",
       "12         total_bsmt_sf   8153.299691\n",
       "27  neighborhood_StoneBr   6993.912477\n",
       "3             year_built   6939.877823\n",
       "8           mas_vnr_area   6855.485829\n",
       "20           garage_area   6674.267434\n",
       "0               lot_area   6300.917466\n",
       "4         year_remod/add   6156.338995\n",
       "19         garage_finish   3661.678114\n",
       "21            deck_space   3508.501833\n",
       "10            foundation   3400.818010\n",
       "18            fireplaces   3317.378042\n",
       "9             exter_qual   3268.907910\n",
       "2           overall_cond   3059.445969\n",
       "25  neighborhood_NoRidge   2881.271685\n",
       "5             roof_style   2703.932072\n",
       "16          kitchen_qual   2362.303145\n",
       "17         totrms_abvgrd   1033.723737\n",
       "22         half_bath_tot   -441.903684\n",
       "13           central_air   -872.500880\n",
       "14            electrical  -1481.851262\n",
       "23         full_bath_tot  -1639.008952\n",
       "6           exterior_1st  -2156.299772\n",
       "11             bsmt_qual  -2528.514018\n",
       "7           mas_vnr_type  -4115.357739"
      ]
     },
     "execution_count": 63,
     "metadata": {},
     "output_type": "execute_result"
    }
   ],
   "source": [
    "#Coefficients\n",
    "\n",
    "coefficients = pd.DataFrame(list(zip(X.columns, housing_lr3.coef_)))\n",
    "coefficients.rename(\n",
    "    columns = {0:'Variable Name', 1:'Coefficient'}, inplace = True)\n",
    "coefficients.sort_values('Coefficient', ascending = False)"
   ]
  },
  {
   "cell_type": "markdown",
   "id": "90d8b0fc",
   "metadata": {},
   "source": [
    "Since I have standardized the data for modeling, the above coefficients show the relative impact of each of my independent variables. The most impactful variables are gr_liv_area which represents the total above grade square footage of a home, overall_quality, finish_bsmt_sqft which represents the total finished basement square footage, and neighborhood_NridgeHt which indicates if a property is in a desireable neighborhood called Northridge Heights.\n",
    "\n",
    "To my surprise, some of the variables that have a negative impact on sale price include full and half bath total, and having air conditioning."
   ]
  },
  {
   "cell_type": "markdown",
   "id": "e6d6965b",
   "metadata": {},
   "source": [
    "### predictions"
   ]
  },
  {
   "cell_type": "code",
   "execution_count": 64,
   "id": "ff488cbc",
   "metadata": {},
   "outputs": [],
   "source": [
    "testcols = list(prediction_data.columns)\n",
    "traincols = list(X.columns)\n",
    "no_overlap = []\n",
    "\n",
    "for col in testcols:\n",
    "    if col not in traincols:\n",
    "        no_overlap.append(col)\n",
    "\n",
    "prediction_data2 = prediction_data.drop(columns = no_overlap)"
   ]
  },
  {
   "cell_type": "code",
   "execution_count": 65,
   "id": "24513e96",
   "metadata": {},
   "outputs": [],
   "source": [
    "predictions = housing_lr3.predict(prediction_data2)\n",
    "\n",
    "submission_3 = pd.DataFrame(zip(prediction_id, predictions))\n",
    "\n",
    "submission_3.rename(columns = {0:'Id', 1:'SalePrice'}, inplace = True)\n",
    "\n",
    "submission_3.to_csv(\n",
    "    '../submission predictions/Prediction3.csv', index = False)"
   ]
  },
  {
   "cell_type": "code",
   "execution_count": 66,
   "id": "91bc205b",
   "metadata": {},
   "outputs": [
    {
     "data": {
      "text/html": [
       "<div>\n",
       "<style scoped>\n",
       "    .dataframe tbody tr th:only-of-type {\n",
       "        vertical-align: middle;\n",
       "    }\n",
       "\n",
       "    .dataframe tbody tr th {\n",
       "        vertical-align: top;\n",
       "    }\n",
       "\n",
       "    .dataframe thead th {\n",
       "        text-align: right;\n",
       "    }\n",
       "</style>\n",
       "<table border=\"1\" class=\"dataframe\">\n",
       "  <thead>\n",
       "    <tr style=\"text-align: right;\">\n",
       "      <th></th>\n",
       "      <th>Id</th>\n",
       "      <th>SalePrice</th>\n",
       "    </tr>\n",
       "  </thead>\n",
       "  <tbody>\n",
       "    <tr>\n",
       "      <th>0</th>\n",
       "      <td>2658</td>\n",
       "      <td>1.362190e+08</td>\n",
       "    </tr>\n",
       "    <tr>\n",
       "      <th>1</th>\n",
       "      <td>2718</td>\n",
       "      <td>1.495873e+08</td>\n",
       "    </tr>\n",
       "    <tr>\n",
       "      <th>2</th>\n",
       "      <td>2414</td>\n",
       "      <td>1.809925e+08</td>\n",
       "    </tr>\n",
       "    <tr>\n",
       "      <th>3</th>\n",
       "      <td>1989</td>\n",
       "      <td>1.120853e+08</td>\n",
       "    </tr>\n",
       "    <tr>\n",
       "      <th>4</th>\n",
       "      <td>625</td>\n",
       "      <td>1.397081e+08</td>\n",
       "    </tr>\n",
       "    <tr>\n",
       "      <th>...</th>\n",
       "      <td>...</td>\n",
       "      <td>...</td>\n",
       "    </tr>\n",
       "    <tr>\n",
       "      <th>873</th>\n",
       "      <td>1662</td>\n",
       "      <td>1.409406e+08</td>\n",
       "    </tr>\n",
       "    <tr>\n",
       "      <th>874</th>\n",
       "      <td>1234</td>\n",
       "      <td>1.832715e+08</td>\n",
       "    </tr>\n",
       "    <tr>\n",
       "      <th>875</th>\n",
       "      <td>1373</td>\n",
       "      <td>1.221536e+08</td>\n",
       "    </tr>\n",
       "    <tr>\n",
       "      <th>876</th>\n",
       "      <td>1672</td>\n",
       "      <td>1.185423e+08</td>\n",
       "    </tr>\n",
       "    <tr>\n",
       "      <th>877</th>\n",
       "      <td>1939</td>\n",
       "      <td>1.176557e+08</td>\n",
       "    </tr>\n",
       "  </tbody>\n",
       "</table>\n",
       "<p>878 rows × 2 columns</p>\n",
       "</div>"
      ],
      "text/plain": [
       "       Id     SalePrice\n",
       "0    2658  1.362190e+08\n",
       "1    2718  1.495873e+08\n",
       "2    2414  1.809925e+08\n",
       "3    1989  1.120853e+08\n",
       "4     625  1.397081e+08\n",
       "..    ...           ...\n",
       "873  1662  1.409406e+08\n",
       "874  1234  1.832715e+08\n",
       "875  1373  1.221536e+08\n",
       "876  1672  1.185423e+08\n",
       "877  1939  1.176557e+08\n",
       "\n",
       "[878 rows x 2 columns]"
      ]
     },
     "execution_count": 66,
     "metadata": {},
     "output_type": "execute_result"
    }
   ],
   "source": [
    "submission_3"
   ]
  },
  {
   "cell_type": "markdown",
   "id": "e53bde4e",
   "metadata": {},
   "source": [
    "The linear model with only high correlation variables runs quite well for being a fairly limited model. It has a relatively high R2 value given our dataset, and the predictions perform in the kaggle submission."
   ]
  },
  {
   "cell_type": "markdown",
   "id": "55b41c80",
   "metadata": {},
   "source": [
    "# Lasso With the high corr values"
   ]
  },
  {
   "cell_type": "code",
   "execution_count": 67,
   "id": "dc800e2c",
   "metadata": {},
   "outputs": [
    {
     "data": {
      "text/plain": [
       "LassoCV(alphas=array([1.00000000e-10, 1.14831241e-10, 1.31862140e-10, 1.51418933e-10,\n",
       "       1.73876240e-10, 1.99664245e-10, 2.29276931e-10, 2.63281547e-10,\n",
       "       3.02329468e-10, 3.47168682e-10, 3.98658107e-10, 4.57784054e-10,\n",
       "       5.25679112e-10, 6.03643851e-10, 6.93171728e-10, 7.95977700e-10,\n",
       "       9.14031075e-10, 1.04959323e-09, 1.20526094e-09, 1.38401610e-09,\n",
       "       1.58928287e-09, 1.82499324e-0...\n",
       "       4.15545533e+48, 4.77176095e+48, 5.47947234e+48, 6.29214611e+48,\n",
       "       7.22534949e+48, 8.29695852e+48, 9.52750047e+48, 1.09405471e+49,\n",
       "       1.25631660e+49, 1.44264395e+49, 1.65660596e+49, 1.90230119e+49,\n",
       "       2.18443607e+49, 2.50841506e+49, 2.88044415e+49, 3.30764978e+49,\n",
       "       3.79821531e+49, 4.36153779e+49, 5.00840799e+49, 5.75121707e+49,\n",
       "       6.60419396e+49, 7.58367791e+49, 8.70843150e+49, 1.00000000e+50]),\n",
       "        cv=5, max_iter=100000)"
      ]
     },
     "execution_count": 67,
     "metadata": {},
     "output_type": "execute_result"
    }
   ],
   "source": [
    "#create our X and y\n",
    "\n",
    "X = housing_high_corr.drop(columns = ['saleprice'])\n",
    "y = housing_high_corr['saleprice']\n",
    "\n",
    "#Scale the data\n",
    "\n",
    "ss = StandardScaler()\n",
    "Z_train = ss.fit_transform(X)\n",
    "\n",
    "#Create a list of possible alphas\n",
    "lasso_alphas = np.logspace(-10, 50, 1000)\n",
    "\n",
    "#Instantiate our Lasso Model\n",
    "lasso_cv = LassoCV(alphas = lasso_alphas, cv = 5, max_iter = 100000)\n",
    "\n",
    "#train our model\n",
    "lasso_cv.fit(Z_train, y)"
   ]
  },
  {
   "cell_type": "code",
   "execution_count": 68,
   "id": "c43032f2",
   "metadata": {},
   "outputs": [
    {
     "data": {
      "text/plain": [
       "19.55650715865947"
      ]
     },
     "execution_count": 68,
     "metadata": {},
     "output_type": "execute_result"
    }
   ],
   "source": [
    "lasso_cv.alpha_"
   ]
  },
  {
   "cell_type": "code",
   "execution_count": 69,
   "id": "0872fd3f",
   "metadata": {},
   "outputs": [
    {
     "data": {
      "text/plain": [
       "719789775.8563824"
      ]
     },
     "execution_count": 69,
     "metadata": {},
     "output_type": "execute_result"
    }
   ],
   "source": [
    "mean_squared_error(y, lasso_cv.predict(Z_train))"
   ]
  },
  {
   "cell_type": "code",
   "execution_count": 70,
   "id": "06c9c8ea",
   "metadata": {},
   "outputs": [
    {
     "data": {
      "text/plain": [
       "26828.89814838437"
      ]
     },
     "execution_count": 70,
     "metadata": {},
     "output_type": "execute_result"
    }
   ],
   "source": [
    "#RMSE\n",
    "\n",
    "np.sqrt(mean_squared_error(y, lasso_cv.predict(Z_train)))"
   ]
  },
  {
   "cell_type": "code",
   "execution_count": 71,
   "id": "3ed89262",
   "metadata": {
    "scrolled": true
   },
   "outputs": [
    {
     "name": "stderr",
     "output_type": "stream",
     "text": [
      "C:\\Users\\jg_ri\\Anaconda3\\lib\\site-packages\\sklearn\\linear_model\\_coordinate_descent.py:526: ConvergenceWarning: Objective did not converge. You might want to increase the number of iterations. Duality gap: 32340087546.70215, tolerance: 794833728.4868665\n",
      "  model = cd_fast.enet_coordinate_descent_gram(\n"
     ]
    },
    {
     "data": {
      "text/plain": [
       "array([0.86577004, 0.87097462, 0.88765543, 0.88690658, 0.87692266])"
      ]
     },
     "execution_count": 71,
     "metadata": {},
     "output_type": "execute_result"
    }
   ],
   "source": [
    "cross_val_score(lasso_cv, Z_train, y)"
   ]
  },
  {
   "cell_type": "markdown",
   "id": "26d30fa1",
   "metadata": {},
   "source": [
    "These R2 values are lower than I had hoped, there is some amount of variance in the data the the model is still not capturing. I will try including interaction terms next to see if that helps with the fit of the model"
   ]
  },
  {
   "cell_type": "code",
   "execution_count": 72,
   "id": "4cc919ed",
   "metadata": {},
   "outputs": [],
   "source": [
    "#Create a list displaying all the coefficients of our new model\n",
    "\n",
    "terms_zero = list(zip(X.columns, lasso_cv.coef_))\n",
    "\n",
    "#create a list of terms that we can drop from our DF\n",
    "\n",
    "terms_to_zero = []\n",
    "for item_pair in terms_zero:\n",
    "    if item_pair[1] == 0:\n",
    "        terms_to_zero.append(item_pair[0])"
   ]
  },
  {
   "cell_type": "markdown",
   "id": "718bbeed",
   "metadata": {},
   "source": [
    "This lasso does not zero out any of our terms. next we will try interaction terms. "
   ]
  },
  {
   "cell_type": "markdown",
   "id": "6669379e",
   "metadata": {},
   "source": [
    "# Model with Interaction terms"
   ]
  },
  {
   "cell_type": "markdown",
   "id": "f4ef339a",
   "metadata": {},
   "source": [
    "Look at the correlations in our manually reduced dataset, and create some interaction terms for the "
   ]
  },
  {
   "cell_type": "code",
   "execution_count": 73,
   "id": "0bce8329",
   "metadata": {},
   "outputs": [
    {
     "data": {
      "text/html": [
       "<div>\n",
       "<style scoped>\n",
       "    .dataframe tbody tr th:only-of-type {\n",
       "        vertical-align: middle;\n",
       "    }\n",
       "\n",
       "    .dataframe tbody tr th {\n",
       "        vertical-align: top;\n",
       "    }\n",
       "\n",
       "    .dataframe thead th {\n",
       "        text-align: right;\n",
       "    }\n",
       "</style>\n",
       "<table border=\"1\" class=\"dataframe\">\n",
       "  <thead>\n",
       "    <tr style=\"text-align: right;\">\n",
       "      <th></th>\n",
       "      <th>lot_area</th>\n",
       "      <th>overall_qual</th>\n",
       "      <th>overall_cond</th>\n",
       "      <th>year_built</th>\n",
       "      <th>year_remod/add</th>\n",
       "      <th>roof_style</th>\n",
       "      <th>exterior_1st</th>\n",
       "      <th>mas_vnr_type</th>\n",
       "      <th>mas_vnr_area</th>\n",
       "      <th>exter_qual</th>\n",
       "      <th>...</th>\n",
       "      <th>garage_finish</th>\n",
       "      <th>garage_area</th>\n",
       "      <th>saleprice</th>\n",
       "      <th>deck_space</th>\n",
       "      <th>half_bath_tot</th>\n",
       "      <th>full_bath_tot</th>\n",
       "      <th>finished_bsmt_sqft</th>\n",
       "      <th>neighborhood_NoRidge</th>\n",
       "      <th>neighborhood_NridgHt</th>\n",
       "      <th>neighborhood_StoneBr</th>\n",
       "    </tr>\n",
       "  </thead>\n",
       "  <tbody>\n",
       "    <tr>\n",
       "      <th>0</th>\n",
       "      <td>13517</td>\n",
       "      <td>6</td>\n",
       "      <td>1</td>\n",
       "      <td>1976</td>\n",
       "      <td>2005</td>\n",
       "      <td>0</td>\n",
       "      <td>1</td>\n",
       "      <td>1</td>\n",
       "      <td>289.0</td>\n",
       "      <td>1</td>\n",
       "      <td>...</td>\n",
       "      <td>0</td>\n",
       "      <td>475.0</td>\n",
       "      <td>130500</td>\n",
       "      <td>44</td>\n",
       "      <td>1.0</td>\n",
       "      <td>2.0</td>\n",
       "      <td>533.0</td>\n",
       "      <td>0</td>\n",
       "      <td>0</td>\n",
       "      <td>0</td>\n",
       "    </tr>\n",
       "    <tr>\n",
       "      <th>1</th>\n",
       "      <td>11492</td>\n",
       "      <td>7</td>\n",
       "      <td>1</td>\n",
       "      <td>1996</td>\n",
       "      <td>1997</td>\n",
       "      <td>0</td>\n",
       "      <td>1</td>\n",
       "      <td>1</td>\n",
       "      <td>132.0</td>\n",
       "      <td>1</td>\n",
       "      <td>...</td>\n",
       "      <td>0</td>\n",
       "      <td>559.0</td>\n",
       "      <td>220000</td>\n",
       "      <td>74</td>\n",
       "      <td>1.0</td>\n",
       "      <td>3.0</td>\n",
       "      <td>637.0</td>\n",
       "      <td>0</td>\n",
       "      <td>0</td>\n",
       "      <td>0</td>\n",
       "    </tr>\n",
       "    <tr>\n",
       "      <th>2</th>\n",
       "      <td>7922</td>\n",
       "      <td>5</td>\n",
       "      <td>1</td>\n",
       "      <td>1953</td>\n",
       "      <td>2007</td>\n",
       "      <td>0</td>\n",
       "      <td>1</td>\n",
       "      <td>0</td>\n",
       "      <td>0.0</td>\n",
       "      <td>0</td>\n",
       "      <td>...</td>\n",
       "      <td>0</td>\n",
       "      <td>246.0</td>\n",
       "      <td>109000</td>\n",
       "      <td>52</td>\n",
       "      <td>0.0</td>\n",
       "      <td>2.0</td>\n",
       "      <td>731.0</td>\n",
       "      <td>0</td>\n",
       "      <td>0</td>\n",
       "      <td>0</td>\n",
       "    </tr>\n",
       "    <tr>\n",
       "      <th>3</th>\n",
       "      <td>9802</td>\n",
       "      <td>5</td>\n",
       "      <td>1</td>\n",
       "      <td>2006</td>\n",
       "      <td>2007</td>\n",
       "      <td>0</td>\n",
       "      <td>1</td>\n",
       "      <td>0</td>\n",
       "      <td>0.0</td>\n",
       "      <td>0</td>\n",
       "      <td>...</td>\n",
       "      <td>1</td>\n",
       "      <td>400.0</td>\n",
       "      <td>174000</td>\n",
       "      <td>100</td>\n",
       "      <td>1.0</td>\n",
       "      <td>2.0</td>\n",
       "      <td>0.0</td>\n",
       "      <td>0</td>\n",
       "      <td>0</td>\n",
       "      <td>0</td>\n",
       "    </tr>\n",
       "    <tr>\n",
       "      <th>4</th>\n",
       "      <td>14235</td>\n",
       "      <td>6</td>\n",
       "      <td>1</td>\n",
       "      <td>1900</td>\n",
       "      <td>1993</td>\n",
       "      <td>0</td>\n",
       "      <td>0</td>\n",
       "      <td>0</td>\n",
       "      <td>0.0</td>\n",
       "      <td>0</td>\n",
       "      <td>...</td>\n",
       "      <td>0</td>\n",
       "      <td>484.0</td>\n",
       "      <td>138500</td>\n",
       "      <td>59</td>\n",
       "      <td>0.0</td>\n",
       "      <td>2.0</td>\n",
       "      <td>0.0</td>\n",
       "      <td>0</td>\n",
       "      <td>0</td>\n",
       "      <td>0</td>\n",
       "    </tr>\n",
       "  </tbody>\n",
       "</table>\n",
       "<p>5 rows × 29 columns</p>\n",
       "</div>"
      ],
      "text/plain": [
       "   lot_area  overall_qual  overall_cond  year_built  year_remod/add  \\\n",
       "0     13517             6             1        1976            2005   \n",
       "1     11492             7             1        1996            1997   \n",
       "2      7922             5             1        1953            2007   \n",
       "3      9802             5             1        2006            2007   \n",
       "4     14235             6             1        1900            1993   \n",
       "\n",
       "   roof_style  exterior_1st  mas_vnr_type  mas_vnr_area  exter_qual  ...  \\\n",
       "0           0             1             1         289.0           1  ...   \n",
       "1           0             1             1         132.0           1  ...   \n",
       "2           0             1             0           0.0           0  ...   \n",
       "3           0             1             0           0.0           0  ...   \n",
       "4           0             0             0           0.0           0  ...   \n",
       "\n",
       "   garage_finish  garage_area  saleprice  deck_space  half_bath_tot  \\\n",
       "0              0        475.0     130500          44            1.0   \n",
       "1              0        559.0     220000          74            1.0   \n",
       "2              0        246.0     109000          52            0.0   \n",
       "3              1        400.0     174000         100            1.0   \n",
       "4              0        484.0     138500          59            0.0   \n",
       "\n",
       "   full_bath_tot  finished_bsmt_sqft  neighborhood_NoRidge  \\\n",
       "0            2.0               533.0                     0   \n",
       "1            3.0               637.0                     0   \n",
       "2            2.0               731.0                     0   \n",
       "3            2.0                 0.0                     0   \n",
       "4            2.0                 0.0                     0   \n",
       "\n",
       "   neighborhood_NridgHt  neighborhood_StoneBr  \n",
       "0                     0                     0  \n",
       "1                     0                     0  \n",
       "2                     0                     0  \n",
       "3                     0                     0  \n",
       "4                     0                     0  \n",
       "\n",
       "[5 rows x 29 columns]"
      ]
     },
     "execution_count": 73,
     "metadata": {},
     "output_type": "execute_result"
    }
   ],
   "source": [
    "housing_high_corr.head()"
   ]
  },
  {
   "cell_type": "code",
   "execution_count": 74,
   "id": "53ba6d70",
   "metadata": {
    "scrolled": true
   },
   "outputs": [
    {
     "data": {
      "text/html": [
       "<div>\n",
       "<style scoped>\n",
       "    .dataframe tbody tr th:only-of-type {\n",
       "        vertical-align: middle;\n",
       "    }\n",
       "\n",
       "    .dataframe tbody tr th {\n",
       "        vertical-align: top;\n",
       "    }\n",
       "\n",
       "    .dataframe thead th {\n",
       "        text-align: right;\n",
       "    }\n",
       "</style>\n",
       "<table border=\"1\" class=\"dataframe\">\n",
       "  <thead>\n",
       "    <tr style=\"text-align: right;\">\n",
       "      <th></th>\n",
       "      <th>saleprice</th>\n",
       "    </tr>\n",
       "  </thead>\n",
       "  <tbody>\n",
       "    <tr>\n",
       "      <th>overall_cond</th>\n",
       "      <td>0.234623</td>\n",
       "    </tr>\n",
       "    <tr>\n",
       "      <th>half_bath_tot</th>\n",
       "      <td>0.236899</td>\n",
       "    </tr>\n",
       "    <tr>\n",
       "      <th>exterior_1st</th>\n",
       "      <td>0.246554</td>\n",
       "    </tr>\n",
       "    <tr>\n",
       "      <th>electrical</th>\n",
       "      <td>0.252727</td>\n",
       "    </tr>\n",
       "    <tr>\n",
       "      <th>neighborhood_StoneBr</th>\n",
       "      <td>0.257183</td>\n",
       "    </tr>\n",
       "    <tr>\n",
       "      <th>neighborhood_NoRidge</th>\n",
       "      <td>0.263605</td>\n",
       "    </tr>\n",
       "    <tr>\n",
       "      <th>roof_style</th>\n",
       "      <td>0.265584</td>\n",
       "    </tr>\n",
       "    <tr>\n",
       "      <th>central_air</th>\n",
       "      <td>0.277662</td>\n",
       "    </tr>\n",
       "    <tr>\n",
       "      <th>lot_area</th>\n",
       "      <td>0.302394</td>\n",
       "    </tr>\n",
       "    <tr>\n",
       "      <th>deck_space</th>\n",
       "      <td>0.408879</td>\n",
       "    </tr>\n",
       "    <tr>\n",
       "      <th>mas_vnr_type</th>\n",
       "      <td>0.419367</td>\n",
       "    </tr>\n",
       "    <tr>\n",
       "      <th>garage_finish</th>\n",
       "      <td>0.424195</td>\n",
       "    </tr>\n",
       "    <tr>\n",
       "      <th>finished_bsmt_sqft</th>\n",
       "      <td>0.431123</td>\n",
       "    </tr>\n",
       "    <tr>\n",
       "      <th>neighborhood_NridgHt</th>\n",
       "      <td>0.449023</td>\n",
       "    </tr>\n",
       "    <tr>\n",
       "      <th>fireplaces</th>\n",
       "      <td>0.472844</td>\n",
       "    </tr>\n",
       "    <tr>\n",
       "      <th>totrms_abvgrd</th>\n",
       "      <td>0.508716</td>\n",
       "    </tr>\n",
       "    <tr>\n",
       "      <th>mas_vnr_area</th>\n",
       "      <td>0.511777</td>\n",
       "    </tr>\n",
       "    <tr>\n",
       "      <th>foundation</th>\n",
       "      <td>0.531473</td>\n",
       "    </tr>\n",
       "    <tr>\n",
       "      <th>year_remod/add</th>\n",
       "      <td>0.550338</td>\n",
       "    </tr>\n",
       "    <tr>\n",
       "      <th>bsmt_qual</th>\n",
       "      <td>0.560483</td>\n",
       "    </tr>\n",
       "    <tr>\n",
       "      <th>year_built</th>\n",
       "      <td>0.572732</td>\n",
       "    </tr>\n",
       "    <tr>\n",
       "      <th>kitchen_qual</th>\n",
       "      <td>0.588373</td>\n",
       "    </tr>\n",
       "    <tr>\n",
       "      <th>full_bath_tot</th>\n",
       "      <td>0.589316</td>\n",
       "    </tr>\n",
       "    <tr>\n",
       "      <th>exter_qual</th>\n",
       "      <td>0.635655</td>\n",
       "    </tr>\n",
       "    <tr>\n",
       "      <th>garage_area</th>\n",
       "      <td>0.654829</td>\n",
       "    </tr>\n",
       "    <tr>\n",
       "      <th>total_bsmt_sf</th>\n",
       "      <td>0.667664</td>\n",
       "    </tr>\n",
       "    <tr>\n",
       "      <th>gr_liv_area</th>\n",
       "      <td>0.720541</td>\n",
       "    </tr>\n",
       "    <tr>\n",
       "      <th>overall_qual</th>\n",
       "      <td>0.804234</td>\n",
       "    </tr>\n",
       "    <tr>\n",
       "      <th>saleprice</th>\n",
       "      <td>1.000000</td>\n",
       "    </tr>\n",
       "  </tbody>\n",
       "</table>\n",
       "</div>"
      ],
      "text/plain": [
       "                      saleprice\n",
       "overall_cond           0.234623\n",
       "half_bath_tot          0.236899\n",
       "exterior_1st           0.246554\n",
       "electrical             0.252727\n",
       "neighborhood_StoneBr   0.257183\n",
       "neighborhood_NoRidge   0.263605\n",
       "roof_style             0.265584\n",
       "central_air            0.277662\n",
       "lot_area               0.302394\n",
       "deck_space             0.408879\n",
       "mas_vnr_type           0.419367\n",
       "garage_finish          0.424195\n",
       "finished_bsmt_sqft     0.431123\n",
       "neighborhood_NridgHt   0.449023\n",
       "fireplaces             0.472844\n",
       "totrms_abvgrd          0.508716\n",
       "mas_vnr_area           0.511777\n",
       "foundation             0.531473\n",
       "year_remod/add         0.550338\n",
       "bsmt_qual              0.560483\n",
       "year_built             0.572732\n",
       "kitchen_qual           0.588373\n",
       "full_bath_tot          0.589316\n",
       "exter_qual             0.635655\n",
       "garage_area            0.654829\n",
       "total_bsmt_sf          0.667664\n",
       "gr_liv_area            0.720541\n",
       "overall_qual           0.804234\n",
       "saleprice              1.000000"
      ]
     },
     "execution_count": 74,
     "metadata": {},
     "output_type": "execute_result"
    }
   ],
   "source": [
    "correlation = housing_high_corr.corr()[['saleprice']].sort_values('saleprice')\n",
    "correlation\n",
    "\n",
    "#overall_qual, gr_liv_area, total_bsmt_sf, garage_area, exter_qual are the top 5 corr values"
   ]
  },
  {
   "cell_type": "code",
   "execution_count": 75,
   "id": "9ad1bacc",
   "metadata": {},
   "outputs": [],
   "source": [
    "#create subset of just the 5 variables we want to create interaction terms for\n",
    "housing_poly = housing[['overall_qual', \n",
    "                        'gr_liv_area', \n",
    "                        'total_bsmt_sf', \n",
    "                        'garage_area', \n",
    "                        'exter_qual']]"
   ]
  },
  {
   "cell_type": "code",
   "execution_count": 76,
   "id": "6ebe9605",
   "metadata": {},
   "outputs": [],
   "source": [
    "#create the polynomial features\n",
    "from sklearn.preprocessing import PolynomialFeatures\n",
    "features = [\n",
    "    'overall_qual','gr_liv_area','total_bsmt_sf','garage_area','exter_qual']\n",
    "\n",
    "poly = PolynomialFeatures(\n",
    "    degree = 2, interaction_only = False, include_bias = False)\n",
    "\n",
    "housing_poly2 = pd.DataFrame(poly.fit_transform(housing_poly), \n",
    "                             columns = poly.get_feature_names(features))"
   ]
  },
  {
   "cell_type": "code",
   "execution_count": 77,
   "id": "c2817e47",
   "metadata": {},
   "outputs": [],
   "source": [
    "housing_poly2.drop(columns = ['overall_qual', \n",
    "                        'gr_liv_area', \n",
    "                        'total_bsmt_sf', \n",
    "                        'garage_area', \n",
    "                        'exter_qual'], inplace = True)"
   ]
  },
  {
   "cell_type": "code",
   "execution_count": 78,
   "id": "c88537fa",
   "metadata": {
    "scrolled": true
   },
   "outputs": [
    {
     "data": {
      "text/html": [
       "<div>\n",
       "<style scoped>\n",
       "    .dataframe tbody tr th:only-of-type {\n",
       "        vertical-align: middle;\n",
       "    }\n",
       "\n",
       "    .dataframe tbody tr th {\n",
       "        vertical-align: top;\n",
       "    }\n",
       "\n",
       "    .dataframe thead th {\n",
       "        text-align: right;\n",
       "    }\n",
       "</style>\n",
       "<table border=\"1\" class=\"dataframe\">\n",
       "  <thead>\n",
       "    <tr style=\"text-align: right;\">\n",
       "      <th></th>\n",
       "      <th>overall_qual^2</th>\n",
       "      <th>overall_qual gr_liv_area</th>\n",
       "      <th>overall_qual total_bsmt_sf</th>\n",
       "      <th>overall_qual garage_area</th>\n",
       "      <th>overall_qual exter_qual</th>\n",
       "      <th>gr_liv_area^2</th>\n",
       "      <th>gr_liv_area total_bsmt_sf</th>\n",
       "      <th>gr_liv_area garage_area</th>\n",
       "      <th>gr_liv_area exter_qual</th>\n",
       "      <th>total_bsmt_sf^2</th>\n",
       "      <th>total_bsmt_sf garage_area</th>\n",
       "      <th>total_bsmt_sf exter_qual</th>\n",
       "      <th>garage_area^2</th>\n",
       "      <th>garage_area exter_qual</th>\n",
       "      <th>exter_qual^2</th>\n",
       "    </tr>\n",
       "  </thead>\n",
       "  <tbody>\n",
       "    <tr>\n",
       "      <th>0</th>\n",
       "      <td>36.0</td>\n",
       "      <td>8874.0</td>\n",
       "      <td>4350.0</td>\n",
       "      <td>2850.0</td>\n",
       "      <td>6.0</td>\n",
       "      <td>2187441.0</td>\n",
       "      <td>1072275.0</td>\n",
       "      <td>702525.0</td>\n",
       "      <td>1479.0</td>\n",
       "      <td>525625.0</td>\n",
       "      <td>344375.0</td>\n",
       "      <td>725.0</td>\n",
       "      <td>225625.0</td>\n",
       "      <td>475.0</td>\n",
       "      <td>1.0</td>\n",
       "    </tr>\n",
       "    <tr>\n",
       "      <th>1</th>\n",
       "      <td>49.0</td>\n",
       "      <td>14854.0</td>\n",
       "      <td>6391.0</td>\n",
       "      <td>3913.0</td>\n",
       "      <td>7.0</td>\n",
       "      <td>4502884.0</td>\n",
       "      <td>1937386.0</td>\n",
       "      <td>1186198.0</td>\n",
       "      <td>2122.0</td>\n",
       "      <td>833569.0</td>\n",
       "      <td>510367.0</td>\n",
       "      <td>913.0</td>\n",
       "      <td>312481.0</td>\n",
       "      <td>559.0</td>\n",
       "      <td>1.0</td>\n",
       "    </tr>\n",
       "    <tr>\n",
       "      <th>2</th>\n",
       "      <td>25.0</td>\n",
       "      <td>5285.0</td>\n",
       "      <td>5285.0</td>\n",
       "      <td>1230.0</td>\n",
       "      <td>0.0</td>\n",
       "      <td>1117249.0</td>\n",
       "      <td>1117249.0</td>\n",
       "      <td>260022.0</td>\n",
       "      <td>0.0</td>\n",
       "      <td>1117249.0</td>\n",
       "      <td>260022.0</td>\n",
       "      <td>0.0</td>\n",
       "      <td>60516.0</td>\n",
       "      <td>0.0</td>\n",
       "      <td>0.0</td>\n",
       "    </tr>\n",
       "    <tr>\n",
       "      <th>3</th>\n",
       "      <td>25.0</td>\n",
       "      <td>7220.0</td>\n",
       "      <td>1920.0</td>\n",
       "      <td>2000.0</td>\n",
       "      <td>0.0</td>\n",
       "      <td>2085136.0</td>\n",
       "      <td>554496.0</td>\n",
       "      <td>577600.0</td>\n",
       "      <td>0.0</td>\n",
       "      <td>147456.0</td>\n",
       "      <td>153600.0</td>\n",
       "      <td>0.0</td>\n",
       "      <td>160000.0</td>\n",
       "      <td>0.0</td>\n",
       "      <td>0.0</td>\n",
       "    </tr>\n",
       "    <tr>\n",
       "      <th>4</th>\n",
       "      <td>36.0</td>\n",
       "      <td>8670.0</td>\n",
       "      <td>4056.0</td>\n",
       "      <td>2904.0</td>\n",
       "      <td>0.0</td>\n",
       "      <td>2088025.0</td>\n",
       "      <td>976820.0</td>\n",
       "      <td>699380.0</td>\n",
       "      <td>0.0</td>\n",
       "      <td>456976.0</td>\n",
       "      <td>327184.0</td>\n",
       "      <td>0.0</td>\n",
       "      <td>234256.0</td>\n",
       "      <td>0.0</td>\n",
       "      <td>0.0</td>\n",
       "    </tr>\n",
       "    <tr>\n",
       "      <th>...</th>\n",
       "      <td>...</td>\n",
       "      <td>...</td>\n",
       "      <td>...</td>\n",
       "      <td>...</td>\n",
       "      <td>...</td>\n",
       "      <td>...</td>\n",
       "      <td>...</td>\n",
       "      <td>...</td>\n",
       "      <td>...</td>\n",
       "      <td>...</td>\n",
       "      <td>...</td>\n",
       "      <td>...</td>\n",
       "      <td>...</td>\n",
       "      <td>...</td>\n",
       "      <td>...</td>\n",
       "    </tr>\n",
       "    <tr>\n",
       "      <th>2042</th>\n",
       "      <td>64.0</td>\n",
       "      <td>13824.0</td>\n",
       "      <td>15072.0</td>\n",
       "      <td>4160.0</td>\n",
       "      <td>8.0</td>\n",
       "      <td>2985984.0</td>\n",
       "      <td>3255552.0</td>\n",
       "      <td>898560.0</td>\n",
       "      <td>1728.0</td>\n",
       "      <td>3549456.0</td>\n",
       "      <td>979680.0</td>\n",
       "      <td>1884.0</td>\n",
       "      <td>270400.0</td>\n",
       "      <td>520.0</td>\n",
       "      <td>1.0</td>\n",
       "    </tr>\n",
       "    <tr>\n",
       "      <th>2043</th>\n",
       "      <td>16.0</td>\n",
       "      <td>3444.0</td>\n",
       "      <td>3444.0</td>\n",
       "      <td>2156.0</td>\n",
       "      <td>0.0</td>\n",
       "      <td>741321.0</td>\n",
       "      <td>741321.0</td>\n",
       "      <td>464079.0</td>\n",
       "      <td>0.0</td>\n",
       "      <td>741321.0</td>\n",
       "      <td>464079.0</td>\n",
       "      <td>0.0</td>\n",
       "      <td>290521.0</td>\n",
       "      <td>0.0</td>\n",
       "      <td>0.0</td>\n",
       "    </tr>\n",
       "    <tr>\n",
       "      <th>2044</th>\n",
       "      <td>36.0</td>\n",
       "      <td>11478.0</td>\n",
       "      <td>5376.0</td>\n",
       "      <td>2052.0</td>\n",
       "      <td>0.0</td>\n",
       "      <td>3659569.0</td>\n",
       "      <td>1714048.0</td>\n",
       "      <td>654246.0</td>\n",
       "      <td>0.0</td>\n",
       "      <td>802816.0</td>\n",
       "      <td>306432.0</td>\n",
       "      <td>0.0</td>\n",
       "      <td>116964.0</td>\n",
       "      <td>0.0</td>\n",
       "      <td>0.0</td>\n",
       "    </tr>\n",
       "    <tr>\n",
       "      <th>2045</th>\n",
       "      <td>16.0</td>\n",
       "      <td>4800.0</td>\n",
       "      <td>4800.0</td>\n",
       "      <td>1176.0</td>\n",
       "      <td>0.0</td>\n",
       "      <td>1440000.0</td>\n",
       "      <td>1440000.0</td>\n",
       "      <td>352800.0</td>\n",
       "      <td>0.0</td>\n",
       "      <td>1440000.0</td>\n",
       "      <td>352800.0</td>\n",
       "      <td>0.0</td>\n",
       "      <td>86436.0</td>\n",
       "      <td>0.0</td>\n",
       "      <td>0.0</td>\n",
       "    </tr>\n",
       "    <tr>\n",
       "      <th>2046</th>\n",
       "      <td>49.0</td>\n",
       "      <td>12628.0</td>\n",
       "      <td>6958.0</td>\n",
       "      <td>3094.0</td>\n",
       "      <td>0.0</td>\n",
       "      <td>3254416.0</td>\n",
       "      <td>1793176.0</td>\n",
       "      <td>797368.0</td>\n",
       "      <td>0.0</td>\n",
       "      <td>988036.0</td>\n",
       "      <td>439348.0</td>\n",
       "      <td>0.0</td>\n",
       "      <td>195364.0</td>\n",
       "      <td>0.0</td>\n",
       "      <td>0.0</td>\n",
       "    </tr>\n",
       "  </tbody>\n",
       "</table>\n",
       "<p>2047 rows × 15 columns</p>\n",
       "</div>"
      ],
      "text/plain": [
       "      overall_qual^2  overall_qual gr_liv_area  overall_qual total_bsmt_sf  \\\n",
       "0               36.0                    8874.0                      4350.0   \n",
       "1               49.0                   14854.0                      6391.0   \n",
       "2               25.0                    5285.0                      5285.0   \n",
       "3               25.0                    7220.0                      1920.0   \n",
       "4               36.0                    8670.0                      4056.0   \n",
       "...              ...                       ...                         ...   \n",
       "2042            64.0                   13824.0                     15072.0   \n",
       "2043            16.0                    3444.0                      3444.0   \n",
       "2044            36.0                   11478.0                      5376.0   \n",
       "2045            16.0                    4800.0                      4800.0   \n",
       "2046            49.0                   12628.0                      6958.0   \n",
       "\n",
       "      overall_qual garage_area  overall_qual exter_qual  gr_liv_area^2  \\\n",
       "0                       2850.0                      6.0      2187441.0   \n",
       "1                       3913.0                      7.0      4502884.0   \n",
       "2                       1230.0                      0.0      1117249.0   \n",
       "3                       2000.0                      0.0      2085136.0   \n",
       "4                       2904.0                      0.0      2088025.0   \n",
       "...                        ...                      ...            ...   \n",
       "2042                    4160.0                      8.0      2985984.0   \n",
       "2043                    2156.0                      0.0       741321.0   \n",
       "2044                    2052.0                      0.0      3659569.0   \n",
       "2045                    1176.0                      0.0      1440000.0   \n",
       "2046                    3094.0                      0.0      3254416.0   \n",
       "\n",
       "      gr_liv_area total_bsmt_sf  gr_liv_area garage_area  \\\n",
       "0                     1072275.0                 702525.0   \n",
       "1                     1937386.0                1186198.0   \n",
       "2                     1117249.0                 260022.0   \n",
       "3                      554496.0                 577600.0   \n",
       "4                      976820.0                 699380.0   \n",
       "...                         ...                      ...   \n",
       "2042                  3255552.0                 898560.0   \n",
       "2043                   741321.0                 464079.0   \n",
       "2044                  1714048.0                 654246.0   \n",
       "2045                  1440000.0                 352800.0   \n",
       "2046                  1793176.0                 797368.0   \n",
       "\n",
       "      gr_liv_area exter_qual  total_bsmt_sf^2  total_bsmt_sf garage_area  \\\n",
       "0                     1479.0         525625.0                   344375.0   \n",
       "1                     2122.0         833569.0                   510367.0   \n",
       "2                        0.0        1117249.0                   260022.0   \n",
       "3                        0.0         147456.0                   153600.0   \n",
       "4                        0.0         456976.0                   327184.0   \n",
       "...                      ...              ...                        ...   \n",
       "2042                  1728.0        3549456.0                   979680.0   \n",
       "2043                     0.0         741321.0                   464079.0   \n",
       "2044                     0.0         802816.0                   306432.0   \n",
       "2045                     0.0        1440000.0                   352800.0   \n",
       "2046                     0.0         988036.0                   439348.0   \n",
       "\n",
       "      total_bsmt_sf exter_qual  garage_area^2  garage_area exter_qual  \\\n",
       "0                        725.0       225625.0                   475.0   \n",
       "1                        913.0       312481.0                   559.0   \n",
       "2                          0.0        60516.0                     0.0   \n",
       "3                          0.0       160000.0                     0.0   \n",
       "4                          0.0       234256.0                     0.0   \n",
       "...                        ...            ...                     ...   \n",
       "2042                    1884.0       270400.0                   520.0   \n",
       "2043                       0.0       290521.0                     0.0   \n",
       "2044                       0.0       116964.0                     0.0   \n",
       "2045                       0.0        86436.0                     0.0   \n",
       "2046                       0.0       195364.0                     0.0   \n",
       "\n",
       "      exter_qual^2  \n",
       "0              1.0  \n",
       "1              1.0  \n",
       "2              0.0  \n",
       "3              0.0  \n",
       "4              0.0  \n",
       "...            ...  \n",
       "2042           1.0  \n",
       "2043           0.0  \n",
       "2044           0.0  \n",
       "2045           0.0  \n",
       "2046           0.0  \n",
       "\n",
       "[2047 rows x 15 columns]"
      ]
     },
     "execution_count": 78,
     "metadata": {},
     "output_type": "execute_result"
    }
   ],
   "source": [
    "housing_poly2"
   ]
  },
  {
   "cell_type": "code",
   "execution_count": 79,
   "id": "26a3e33d",
   "metadata": {},
   "outputs": [],
   "source": [
    "housing_poly3 = pd.concat([housing_poly2, housing_high_corr], axis = 1)\n",
    "housing_poly3.to_csv('../datasets/train_poly', index = False)"
   ]
  },
  {
   "cell_type": "code",
   "execution_count": 80,
   "id": "94f57938",
   "metadata": {
    "scrolled": false
   },
   "outputs": [
    {
     "data": {
      "text/plain": [
       "0.9181144953563172"
      ]
     },
     "execution_count": 80,
     "metadata": {},
     "output_type": "execute_result"
    }
   ],
   "source": [
    "#creating X and y\n",
    "X = housing_poly3.drop(columns = ['saleprice'])\n",
    "y = housing_poly3['saleprice']\n",
    "\n",
    "#transform the data\n",
    "Z_train = ss.fit_transform(X)\n",
    "\n",
    "#instantiate\n",
    "lr_poly = LinearRegression()\n",
    "\n",
    "#train\n",
    "lr_poly.fit(Z_train, y)\n",
    "\n",
    "#evaluate\n",
    "lr_poly.score(Z_train, y)"
   ]
  },
  {
   "cell_type": "code",
   "execution_count": 81,
   "id": "85f26062",
   "metadata": {
    "scrolled": true
   },
   "outputs": [
    {
     "data": {
      "text/plain": [
       "array([0.89246637, 0.90580392, 0.92415793, 0.91216431, 0.91052097])"
      ]
     },
     "execution_count": 81,
     "metadata": {},
     "output_type": "execute_result"
    }
   ],
   "source": [
    "cross_val_score(lr_poly, Z_train, y)"
   ]
  },
  {
   "cell_type": "code",
   "execution_count": 82,
   "id": "fbc4a359",
   "metadata": {},
   "outputs": [
    {
     "data": {
      "text/plain": [
       "22677.925756239794"
      ]
     },
     "execution_count": 82,
     "metadata": {},
     "output_type": "execute_result"
    }
   ],
   "source": [
    "np.sqrt(mean_squared_error(y, lr_poly.predict(Z_train)))"
   ]
  },
  {
   "cell_type": "markdown",
   "id": "ad2ecbf4",
   "metadata": {},
   "source": [
    "# Running Lasso on Poly Model"
   ]
  },
  {
   "cell_type": "code",
   "execution_count": 83,
   "id": "8c88b703",
   "metadata": {
    "scrolled": true
   },
   "outputs": [
    {
     "data": {
      "text/plain": [
       "LassoCV(alphas=array([1.00000000e+00, 1.12266777e+00, 1.26038293e+00, 1.41499130e+00,\n",
       "       1.58856513e+00, 1.78343088e+00, 2.00220037e+00, 2.24780583e+00,\n",
       "       2.52353917e+00, 2.83309610e+00, 3.18062569e+00, 3.57078596e+00,\n",
       "       4.00880633e+00, 4.50055768e+00, 5.05263107e+00, 5.67242607e+00,\n",
       "       6.36824994e+00, 7.14942899e+00, 8.02643352e+00, 9.01101825e+00,\n",
       "       1.01163798e+01, 1.13573336e+0...\n",
       "       6.98587975e+08, 7.84282206e+08, 8.80488358e+08, 9.88495905e+08,\n",
       "       1.10975250e+09, 1.24588336e+09, 1.39871310e+09, 1.57029012e+09,\n",
       "       1.76291412e+09, 1.97916687e+09, 2.22194686e+09, 2.49450814e+09,\n",
       "       2.80050389e+09, 3.14403547e+09, 3.52970730e+09, 3.96268864e+09,\n",
       "       4.44878283e+09, 4.99450512e+09, 5.60716994e+09, 6.29498899e+09,\n",
       "       7.06718127e+09, 7.93409667e+09, 8.90735464e+09, 1.00000000e+10]),\n",
       "        cv=3, max_iter=50000)"
      ]
     },
     "execution_count": 83,
     "metadata": {},
     "output_type": "execute_result"
    }
   ],
   "source": [
    "#create our X and y\n",
    "\n",
    "X = housing_poly3.drop(columns = ['saleprice'])\n",
    "y = housing_poly3['saleprice']\n",
    "\n",
    "#Scale the data\n",
    "\n",
    "ss = StandardScaler()\n",
    "Z_train = ss.fit_transform(X)\n",
    "\n",
    "#Create a list of possible alphas\n",
    "lasso_alphas = np.logspace(0, 10, 200)\n",
    "\n",
    "#Instantiate our Lasso Model\n",
    "lasso_cv = LassoCV(alphas = lasso_alphas, cv = 3, max_iter = 50000)\n",
    "\n",
    "#train our model\n",
    "lasso_cv.fit(Z_train, y)"
   ]
  },
  {
   "cell_type": "code",
   "execution_count": 84,
   "id": "2db3ca3a",
   "metadata": {},
   "outputs": [
    {
     "data": {
      "text/plain": [
       "91.15888299750823"
      ]
     },
     "execution_count": 84,
     "metadata": {},
     "output_type": "execute_result"
    }
   ],
   "source": [
    "lasso_cv.alpha_"
   ]
  },
  {
   "cell_type": "code",
   "execution_count": 85,
   "id": "fb8b0f6e",
   "metadata": {
    "scrolled": true
   },
   "outputs": [
    {
     "data": {
      "text/plain": [
       "array([0.89337981, 0.90694575, 0.92239257, 0.91364611, 0.91119589])"
      ]
     },
     "execution_count": 85,
     "metadata": {},
     "output_type": "execute_result"
    }
   ],
   "source": [
    "cross_val_score(lasso_cv, Z_train, y)"
   ]
  },
  {
   "cell_type": "code",
   "execution_count": 86,
   "id": "00bc267c",
   "metadata": {
    "scrolled": true
   },
   "outputs": [
    {
     "data": {
      "text/plain": [
       "22775.748369494977"
      ]
     },
     "execution_count": 86,
     "metadata": {},
     "output_type": "execute_result"
    }
   ],
   "source": [
    "np.sqrt(mean_squared_error(y, lasso_cv.predict(Z_train)))"
   ]
  },
  {
   "cell_type": "markdown",
   "id": "9a1b0b90",
   "metadata": {},
   "source": [
    "The linear model including polymetric terms for the top 5 most correlated variables returns our best results so far. When we use lasso regression with interaction terms, the results improve further. In the poly model notebook I further explore this model."
   ]
  },
  {
   "cell_type": "code",
   "execution_count": 87,
   "id": "4984ed55",
   "metadata": {},
   "outputs": [
    {
     "name": "stdout",
     "output_type": "stream",
     "text": [
      "done!\n"
     ]
    }
   ],
   "source": [
    "print('done!')"
   ]
  }
 ],
 "metadata": {
  "kernelspec": {
   "display_name": "Python 3",
   "language": "python",
   "name": "python3"
  },
  "language_info": {
   "codemirror_mode": {
    "name": "ipython",
    "version": 3
   },
   "file_extension": ".py",
   "mimetype": "text/x-python",
   "name": "python",
   "nbconvert_exporter": "python",
   "pygments_lexer": "ipython3",
   "version": "3.8.8"
  }
 },
 "nbformat": 4,
 "nbformat_minor": 5
}
