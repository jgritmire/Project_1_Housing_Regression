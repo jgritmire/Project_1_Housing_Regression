{
 "cells": [
  {
   "cell_type": "markdown",
   "id": "1c99b149",
   "metadata": {},
   "source": [
    "Import relevant libraries"
   ]
  },
  {
   "cell_type": "code",
   "execution_count": 183,
   "id": "e7728f05",
   "metadata": {},
   "outputs": [],
   "source": [
    "import pandas as pd\n",
    "import numpy as np\n",
    "import matplotlib.pyplot as plt\n",
    "import seaborn as sns"
   ]
  },
  {
   "cell_type": "markdown",
   "id": "6ddade45",
   "metadata": {},
   "source": [
    "Import the Datasets"
   ]
  },
  {
   "cell_type": "code",
   "execution_count": 184,
   "id": "97f0d620",
   "metadata": {},
   "outputs": [],
   "source": [
    "train = pd.read_csv('../datasets/train.csv')\n",
    "test = pd.read_csv('../datasets/test.csv')\n",
    "\n",
    "#create a sale price column for the test data and populate it\n",
    "\n",
    "test['SalePrice'] = 'TEST'\n",
    "\n",
    "#merge the data sets so I can do all transformations at the same time\n",
    "\n",
    "housing = pd.concat([train, test])"
   ]
  },
  {
   "cell_type": "markdown",
   "id": "f01e65f3",
   "metadata": {},
   "source": [
    "convert columns to snake case"
   ]
  },
  {
   "cell_type": "code",
   "execution_count": 185,
   "id": "240f1ca4",
   "metadata": {},
   "outputs": [],
   "source": [
    "housing = housing.rename(columns = str.lower)\n",
    "housing.columns = housing.columns.str.replace(' ','_')"
   ]
  },
  {
   "cell_type": "code",
   "execution_count": 186,
   "id": "1e25a757",
   "metadata": {},
   "outputs": [
    {
     "data": {
      "text/plain": [
       "13993"
      ]
     },
     "execution_count": 186,
     "metadata": {},
     "output_type": "execute_result"
    }
   ],
   "source": [
    "housing.isnull().sum().sum()"
   ]
  },
  {
   "cell_type": "code",
   "execution_count": 187,
   "id": "f207595b",
   "metadata": {
    "scrolled": true
   },
   "outputs": [
    {
     "data": {
      "text/plain": [
       "{'id': 0,\n",
       " 'pid': 0,\n",
       " 'ms_subclass': 0,\n",
       " 'ms_zoning': 0,\n",
       " 'lot_frontage': 490,\n",
       " 'lot_area': 0,\n",
       " 'street': 0,\n",
       " 'alley': 2731,\n",
       " 'lot_shape': 0,\n",
       " 'land_contour': 0,\n",
       " 'utilities': 0,\n",
       " 'lot_config': 0,\n",
       " 'land_slope': 0,\n",
       " 'neighborhood': 0,\n",
       " 'condition_1': 0,\n",
       " 'condition_2': 0,\n",
       " 'bldg_type': 0,\n",
       " 'house_style': 0,\n",
       " 'overall_qual': 0,\n",
       " 'overall_cond': 0,\n",
       " 'year_built': 0,\n",
       " 'year_remod/add': 0,\n",
       " 'roof_style': 0,\n",
       " 'roof_matl': 0,\n",
       " 'exterior_1st': 0,\n",
       " 'exterior_2nd': 0,\n",
       " 'mas_vnr_type': 23,\n",
       " 'mas_vnr_area': 23,\n",
       " 'exter_qual': 0,\n",
       " 'exter_cond': 0,\n",
       " 'foundation': 0,\n",
       " 'bsmt_qual': 80,\n",
       " 'bsmt_cond': 80,\n",
       " 'bsmt_exposure': 83,\n",
       " 'bsmtfin_type_1': 80,\n",
       " 'bsmtfin_sf_1': 1,\n",
       " 'bsmtfin_type_2': 81,\n",
       " 'bsmtfin_sf_2': 1,\n",
       " 'bsmt_unf_sf': 1,\n",
       " 'total_bsmt_sf': 1,\n",
       " 'heating': 0,\n",
       " 'heating_qc': 0,\n",
       " 'central_air': 0,\n",
       " 'electrical': 1,\n",
       " '1st_flr_sf': 0,\n",
       " '2nd_flr_sf': 0,\n",
       " 'low_qual_fin_sf': 0,\n",
       " 'gr_liv_area': 0,\n",
       " 'bsmt_full_bath': 2,\n",
       " 'bsmt_half_bath': 2,\n",
       " 'full_bath': 0,\n",
       " 'half_bath': 0,\n",
       " 'bedroom_abvgr': 0,\n",
       " 'kitchen_abvgr': 0,\n",
       " 'kitchen_qual': 0,\n",
       " 'totrms_abvgrd': 0,\n",
       " 'functional': 0,\n",
       " 'fireplaces': 0,\n",
       " 'fireplace_qu': 1422,\n",
       " 'garage_type': 157,\n",
       " 'garage_yr_blt': 159,\n",
       " 'garage_finish': 159,\n",
       " 'garage_cars': 1,\n",
       " 'garage_area': 1,\n",
       " 'garage_qual': 159,\n",
       " 'garage_cond': 159,\n",
       " 'paved_drive': 0,\n",
       " 'wood_deck_sf': 0,\n",
       " 'open_porch_sf': 0,\n",
       " 'enclosed_porch': 0,\n",
       " '3ssn_porch': 0,\n",
       " 'screen_porch': 0,\n",
       " 'pool_area': 0,\n",
       " 'pool_qc': 2916,\n",
       " 'fence': 2357,\n",
       " 'misc_feature': 2823,\n",
       " 'misc_val': 0,\n",
       " 'mo_sold': 0,\n",
       " 'yr_sold': 0,\n",
       " 'sale_type': 0,\n",
       " 'saleprice': 0}"
      ]
     },
     "execution_count": 187,
     "metadata": {},
     "output_type": "execute_result"
    }
   ],
   "source": [
    "housing.isnull().sum().to_dict()"
   ]
  },
  {
   "cell_type": "markdown",
   "id": "8e449bd4",
   "metadata": {},
   "source": [
    "Some potential problems with null values:\n",
    "lot frontage is missing 490 values, which is almost 1/6 of our data.  We can just drop this column and perform our regression wihout it, since it is unlikely that a buyer of a residential property is concerned with street frontage, and also I do not believe there is a good practice for filling this much null data.\n",
    "\n",
    "alley has over 2700 null values, but null in this case means no access. can make this into a dummy\n",
    "\n",
    "fireplace quality has 1422 nulls, but again that just means no fireplace\n",
    "\n",
    "Fence is missing a significant amount of data as well, but again null indicates no fence\n",
    "\n",
    "pool quality same situation as fence\n",
    "\n",
    "misc feature is mostly null, but this column can be dropped because the relevant information is captured in misc value"
   ]
  },
  {
   "cell_type": "code",
   "execution_count": 188,
   "id": "8b670c39",
   "metadata": {},
   "outputs": [],
   "source": [
    "# Drop the lot frontage column\n",
    "housing.drop(columns = ['lot_frontage'], axis = 1 , inplace = True)"
   ]
  },
  {
   "cell_type": "code",
   "execution_count": 189,
   "id": "83ff19fd",
   "metadata": {},
   "outputs": [],
   "source": [
    "#create a bool to indicate whether a house has a good wood fence or better. \n",
    "#This variable really just serves to indicate whether a house has good privacy or not\n",
    "\n",
    "housing['fence'] = housing['fence'].apply(\n",
    "    lambda x: 1 if x == 'GdPrv' or x == 'GdWo' else 0)"
   ]
  },
  {
   "cell_type": "code",
   "execution_count": 190,
   "id": "e1f0e33a",
   "metadata": {},
   "outputs": [
    {
     "data": {
      "text/plain": [
       "0    2699\n",
       "1     230\n",
       "Name: fence, dtype: int64"
      ]
     },
     "execution_count": 190,
     "metadata": {},
     "output_type": "execute_result"
    }
   ],
   "source": [
    "housing['fence'].value_counts()"
   ]
  },
  {
   "cell_type": "markdown",
   "id": "4740db6f",
   "metadata": {},
   "source": [
    "Convert street into a bool, 1 for paved 0 for gravel"
   ]
  },
  {
   "cell_type": "code",
   "execution_count": 191,
   "id": "b5351034",
   "metadata": {},
   "outputs": [],
   "source": [
    "housing['street'] = housing['street'].apply(\n",
    "    lambda x: 1 if x == 'Paved' else 0)"
   ]
  },
  {
   "cell_type": "markdown",
   "id": "2e3e5291",
   "metadata": {},
   "source": [
    "Central air can be a bool, as it simply represents whether a house has central air conditioning or not"
   ]
  },
  {
   "cell_type": "code",
   "execution_count": 192,
   "id": "e755bd3c",
   "metadata": {},
   "outputs": [],
   "source": [
    "housing['central_air'] = housing['central_air'].apply(\n",
    "    lambda x: 1 if x == 'Y' else 0)"
   ]
  },
  {
   "cell_type": "markdown",
   "id": "3e8103ee",
   "metadata": {},
   "source": [
    "garage type is too complicated of a variable, can be reduced to just attached or unattached for modeling purposes since I don't think humans distinctly value what type of attached garage a house has"
   ]
  },
  {
   "cell_type": "code",
   "execution_count": 193,
   "id": "9fc7fceb",
   "metadata": {
    "scrolled": true
   },
   "outputs": [
    {
     "data": {
      "text/plain": [
       "Attchd     1731\n",
       "Detchd      782\n",
       "BuiltIn     185\n",
       "Basment      36\n",
       "2Types       23\n",
       "CarPort      15\n",
       "Name: garage_type, dtype: int64"
      ]
     },
     "execution_count": 193,
     "metadata": {},
     "output_type": "execute_result"
    }
   ],
   "source": [
    "housing['garage_type'].value_counts()"
   ]
  },
  {
   "cell_type": "code",
   "execution_count": 194,
   "id": "8194d862",
   "metadata": {},
   "outputs": [],
   "source": [
    "housing['garage_type'] = housing['garage_type'].apply(\n",
    "    lambda x: 1 if x in ['Attchd','Basment', 'BuiltIn','2Types'] else 0)\n",
    "\n",
    "housing.rename(columns = {'garage_type':'garage_att'},inplace = True)"
   ]
  },
  {
   "cell_type": "markdown",
   "id": "4fe95cc4",
   "metadata": {},
   "source": [
    "Alley can be turned into a bool which indicates whether the house is accessible by alley or not"
   ]
  },
  {
   "cell_type": "code",
   "execution_count": 195,
   "id": "24fb76b4",
   "metadata": {},
   "outputs": [
    {
     "data": {
      "text/plain": [
       "Grvl    120\n",
       "Pave     78\n",
       "Name: alley, dtype: int64"
      ]
     },
     "execution_count": 195,
     "metadata": {},
     "output_type": "execute_result"
    }
   ],
   "source": [
    "housing['alley'].value_counts()"
   ]
  },
  {
   "cell_type": "code",
   "execution_count": 196,
   "id": "37e4d71e",
   "metadata": {},
   "outputs": [],
   "source": [
    "housing['alley'] = housing['alley'].apply(\n",
    "    lambda x: 1 if x in ['Grvl', 'Pave'] else 0)"
   ]
  },
  {
   "cell_type": "markdown",
   "id": "ba6aeb15",
   "metadata": {},
   "source": [
    "All of the different types of deck/porch can be represented by a single variable which represents the total square footage of the deck/decks"
   ]
  },
  {
   "cell_type": "code",
   "execution_count": 197,
   "id": "7f822214",
   "metadata": {},
   "outputs": [],
   "source": [
    "housing['deck_space'] = (housing['wood_deck_sf'] + \n",
    "                         housing['open_porch_sf'] + \n",
    "                         housing['enclosed_porch'] +\n",
    "                         housing['3ssn_porch'] +\n",
    "                         housing['screen_porch'])                                                                                 "
   ]
  },
  {
   "cell_type": "markdown",
   "id": "f9fc834c",
   "metadata": {},
   "source": [
    "drop the old deck columns since we have captured them in our new variable"
   ]
  },
  {
   "cell_type": "code",
   "execution_count": 198,
   "id": "1fa9e9fb",
   "metadata": {},
   "outputs": [],
   "source": [
    "housing.drop(columns = ['wood_deck_sf',\n",
    "                        'open_porch_sf',\n",
    "                        'enclosed_porch',\n",
    "                        '3ssn_porch',\n",
    "                        'screen_porch'], axis = 1, inplace = True)"
   ]
  },
  {
   "cell_type": "markdown",
   "id": "a7514717",
   "metadata": {},
   "source": [
    "simplify pool quality and pool area to a dummy that represents if a house has a pool or not, drop the other pool columns since there are so few of them it doesn't make sense to keep all those variables"
   ]
  },
  {
   "cell_type": "code",
   "execution_count": 199,
   "id": "916d7139",
   "metadata": {},
   "outputs": [],
   "source": [
    "housing['has_pool'] = housing['pool_area'].apply(lambda x: 1 if x > 0 else 0)\n",
    "\n",
    "housing.drop(columns = ['pool_area', 'pool_qc'], inplace = True)"
   ]
  },
  {
   "cell_type": "markdown",
   "id": "c1b3b3f4",
   "metadata": {},
   "source": [
    "Split lot shape into regular vs irregular, dummy 1 for regular shape, 0 for irregular"
   ]
  },
  {
   "cell_type": "code",
   "execution_count": 200,
   "id": "7611450a",
   "metadata": {},
   "outputs": [],
   "source": [
    "housing['lot_shape'] = housing['lot_shape'].apply(\n",
    "    lambda x: 1 if x == 'Reg' else 0)"
   ]
  },
  {
   "cell_type": "markdown",
   "id": "616db22c",
   "metadata": {},
   "source": [
    "for lot_config, corner lots are typically more desirable as they tend to be large, so create a bool for whether a parcel is a corner lot"
   ]
  },
  {
   "cell_type": "code",
   "execution_count": 201,
   "id": "a6b6017b",
   "metadata": {},
   "outputs": [],
   "source": [
    "#create a function to determine if a lot is a corner lot\n",
    "housing['corner_lot'] = housing['lot_config'].apply(\n",
    "    lambda x: 1 if x == 'Corner' else 0)\n",
    "\n",
    "#drop the old column\n",
    "housing.drop(columns = ['lot_config'],axis = 1, inplace = True)"
   ]
  },
  {
   "cell_type": "markdown",
   "id": "b0296412",
   "metadata": {},
   "source": [
    "drop misc feature column, but keep misc val. don't need to know specifically what the feature is if we have the feature's value"
   ]
  },
  {
   "cell_type": "code",
   "execution_count": 202,
   "id": "38c48de6",
   "metadata": {},
   "outputs": [],
   "source": [
    "housing.drop(columns = ['misc_feature'], axis = 1, inplace = True)"
   ]
  },
  {
   "cell_type": "markdown",
   "id": "c693774e",
   "metadata": {},
   "source": [
    "fill the null values for masonry facade area, as the null houses have no facade"
   ]
  },
  {
   "cell_type": "code",
   "execution_count": 203,
   "id": "e134c985",
   "metadata": {},
   "outputs": [],
   "source": [
    "housing['mas_vnr_area'].fillna(0, inplace = True)"
   ]
  },
  {
   "cell_type": "markdown",
   "id": "5817f8ee",
   "metadata": {},
   "source": [
    "make a variable for total half baths and total full baths, drop the old columns since I don't care where the bathrooms are located in the home"
   ]
  },
  {
   "cell_type": "code",
   "execution_count": 204,
   "id": "66ae4d44",
   "metadata": {},
   "outputs": [],
   "source": [
    "housing['half_bath_tot'] = housing['bsmt_half_bath'] + housing['half_bath']"
   ]
  },
  {
   "cell_type": "code",
   "execution_count": 205,
   "id": "48aacba4",
   "metadata": {},
   "outputs": [],
   "source": [
    "housing['full_bath_tot'] = housing['full_bath'] + housing['bsmt_full_bath']"
   ]
  },
  {
   "cell_type": "code",
   "execution_count": 206,
   "id": "f46d0ab4",
   "metadata": {},
   "outputs": [],
   "source": [
    "housing.drop(columns = ['bsmt_half_bath','half_bath','full_bath',\n",
    "                        'bsmt_full_bath'], axis = 1, inplace = True)"
   ]
  },
  {
   "cell_type": "markdown",
   "id": "dd3cf154",
   "metadata": {},
   "source": [
    "drop the old 1st/2nd floor sf splits since theres a variable that contains both, and these will cause issues with multicolinearity "
   ]
  },
  {
   "cell_type": "code",
   "execution_count": 207,
   "id": "118542bd",
   "metadata": {},
   "outputs": [],
   "source": [
    "housing.drop(columns = ['1st_flr_sf','2nd_flr_sf'], axis = 1, inplace = True)"
   ]
  },
  {
   "cell_type": "markdown",
   "id": "c5501fc0",
   "metadata": {},
   "source": [
    "Drop garage car, keep sf. redundant"
   ]
  },
  {
   "cell_type": "code",
   "execution_count": 208,
   "id": "8ab5e5c7",
   "metadata": {},
   "outputs": [],
   "source": [
    "housing.drop(columns = ['garage_cars'], axis = 1, inplace = True)"
   ]
  },
  {
   "cell_type": "markdown",
   "id": "e983ab12",
   "metadata": {},
   "source": [
    "fill null value for garage area with 0, since these houses simply don't have a garage"
   ]
  },
  {
   "cell_type": "code",
   "execution_count": 209,
   "id": "288d8dd2",
   "metadata": {},
   "outputs": [],
   "source": [
    "housing['garage_area'].fillna(0, inplace = True)"
   ]
  },
  {
   "cell_type": "markdown",
   "id": "c1b25220",
   "metadata": {},
   "source": [
    "Create a column for total finished basement square footage, drop the unneccessary basement columns"
   ]
  },
  {
   "cell_type": "code",
   "execution_count": 210,
   "id": "d9713e35",
   "metadata": {},
   "outputs": [],
   "source": [
    "housing['finished_bsmt_sqft'] = (housing['total_bsmt_sf'] - \n",
    "                                 housing['bsmt_unf_sf'])"
   ]
  },
  {
   "cell_type": "code",
   "execution_count": 211,
   "id": "3a2a7f5b",
   "metadata": {},
   "outputs": [],
   "source": [
    "housing['total_bsmt_sf'].fillna(0, inplace = True)"
   ]
  },
  {
   "cell_type": "code",
   "execution_count": 212,
   "id": "45cf0441",
   "metadata": {},
   "outputs": [],
   "source": [
    "housing.drop(columns = ['bsmt_exposure',\n",
    "                        'bsmtfin_type_1',\n",
    "                        'bsmtfin_sf_1',\n",
    "                        'bsmtfin_type_2',\n",
    "                        'bsmtfin_sf_2',\n",
    "                        'bsmt_unf_sf'], axis = 1, inplace = True)"
   ]
  },
  {
   "cell_type": "markdown",
   "id": "cc4bc311",
   "metadata": {},
   "source": [
    "# Tackling Categorical Variables"
   ]
  },
  {
   "cell_type": "markdown",
   "id": "8f1790ee",
   "metadata": {},
   "source": [
    "#### My goal for these categorical variables is generally to create boolean variables whenever possible that capture the general qualities represented by the categorical variables without significantly increasing my number of variables"
   ]
  },
  {
   "cell_type": "markdown",
   "id": "2b997253",
   "metadata": {
    "scrolled": true
   },
   "source": [
    "Drop the zoning variable. we are attempting to value the existing structure, if a property is selling because it is going to be torn down then we are not valuing the structure, we are only valuing the land, and thus none of the physical characteristics of the house will be relevant. "
   ]
  },
  {
   "cell_type": "code",
   "execution_count": 213,
   "id": "d62979bb",
   "metadata": {},
   "outputs": [],
   "source": [
    "housing.drop(columns = ['ms_zoning'], axis = 1, inplace = True)"
   ]
  },
  {
   "cell_type": "markdown",
   "id": "1713ea06",
   "metadata": {},
   "source": [
    "drop ms_subclass variable, the primary purpose of this subgroup is to indicate the age and physical characteristics of the structure which are better captured in other variables"
   ]
  },
  {
   "cell_type": "code",
   "execution_count": 214,
   "id": "510866ec",
   "metadata": {},
   "outputs": [],
   "source": [
    "housing.drop(columns = ['ms_subclass'], axis = 1, inplace = True)"
   ]
  },
  {
   "cell_type": "markdown",
   "id": "59e89b73",
   "metadata": {},
   "source": [
    "Create a bool for land contour which indicates 1 = flat, 2 = not flat"
   ]
  },
  {
   "cell_type": "code",
   "execution_count": 215,
   "id": "a8e5ac54",
   "metadata": {
    "scrolled": true
   },
   "outputs": [],
   "source": [
    "housing['land_contour'] = housing['land_contour'].apply(\n",
    "    lambda x: 1 if x == 'Lvl' else 0)"
   ]
  },
  {
   "cell_type": "markdown",
   "id": "fb1c6534",
   "metadata": {},
   "source": [
    "drop slope because it should be covered by contour, and even if it isn't it will display a high level of covariance with contour"
   ]
  },
  {
   "cell_type": "code",
   "execution_count": 216,
   "id": "ab86630e",
   "metadata": {},
   "outputs": [],
   "source": [
    "housing.drop(columns = ['land_slope'], axis = 1, inplace = True)"
   ]
  },
  {
   "cell_type": "markdown",
   "id": "3b32fcf4",
   "metadata": {},
   "source": [
    "create a bool for if a house has all public utilities or not"
   ]
  },
  {
   "cell_type": "code",
   "execution_count": 217,
   "id": "47388034",
   "metadata": {},
   "outputs": [],
   "source": [
    "housing['utilities'] = housing['utilities'].apply(\n",
    "    lambda x: 1 if x == 'AllPub' else 0)"
   ]
  },
  {
   "cell_type": "markdown",
   "id": "89c514e2",
   "metadata": {},
   "source": [
    "create dummies for neighborhood since we see a significant difference between house sale prices in various neighborhoods"
   ]
  },
  {
   "cell_type": "code",
   "execution_count": 218,
   "id": "cd2bcf44",
   "metadata": {},
   "outputs": [],
   "source": [
    "housing = pd.get_dummies(housing, columns = ['neighborhood'], \n",
    "                         drop_first = True)"
   ]
  },
  {
   "cell_type": "markdown",
   "id": "1a6bcbe4",
   "metadata": {},
   "source": [
    "create a bool for if a house is close to a positive offsite feature (park, greenbelt, etc), and do the same thing for condition 2"
   ]
  },
  {
   "cell_type": "code",
   "execution_count": 219,
   "id": "cd728cd3",
   "metadata": {},
   "outputs": [],
   "source": [
    "housing['condition_1'] = housing['condition_1'].apply(\n",
    "    lambda x: 1 if x in ['PosN', 'PosA'] else 0)\n",
    "housing['condition_2'] = housing['condition_2'].apply(\n",
    "    lambda x: 1 if x in ['PosN', 'PosA'] else 0)"
   ]
  },
  {
   "cell_type": "code",
   "execution_count": 220,
   "id": "5a153a31",
   "metadata": {},
   "outputs": [
    {
     "name": "stderr",
     "output_type": "stream",
     "text": [
      "<ipython-input-220-54a44a78ef42>:3: SettingWithCopyWarning: \n",
      "A value is trying to be set on a copy of a slice from a DataFrame.\n",
      "Try using .loc[row_indexer,col_indexer] = value instead\n",
      "\n",
      "See the caveats in the documentation: https://pandas.pydata.org/pandas-docs/stable/user_guide/indexing.html#returning-a-view-versus-a-copy\n",
      "  a['saleprice'] = pd.to_numeric(a['saleprice'])\n"
     ]
    }
   ],
   "source": [
    "#temporarily split train/test data so we can examine how different variables impact sale price\n",
    "a = housing[housing['saleprice'] != 'TEST']\n",
    "a['saleprice'] = pd.to_numeric(a['saleprice'])"
   ]
  },
  {
   "cell_type": "code",
   "execution_count": 221,
   "id": "0699f778",
   "metadata": {
    "scrolled": true
   },
   "outputs": [
    {
     "data": {
      "text/plain": [
       "condition_1\n",
       "0    180048.763419\n",
       "1    254775.538462\n",
       "Name: saleprice, dtype: float64"
      ]
     },
     "execution_count": 221,
     "metadata": {},
     "output_type": "execute_result"
    }
   ],
   "source": [
    "a.groupby('condition_1')['saleprice'].mean()"
   ]
  },
  {
   "cell_type": "code",
   "execution_count": 222,
   "id": "847a3319",
   "metadata": {},
   "outputs": [
    {
     "data": {
      "text/plain": [
       "condition_2\n",
       "0    180848.585819\n",
       "1    393166.666667\n",
       "Name: saleprice, dtype: float64"
      ]
     },
     "execution_count": 222,
     "metadata": {},
     "output_type": "execute_result"
    }
   ],
   "source": [
    "a.groupby('condition_2')['saleprice'].mean()"
   ]
  },
  {
   "cell_type": "markdown",
   "id": "2335cfb7",
   "metadata": {},
   "source": [
    "the new condition 1 and 2  variables show some potentially significant impacts on saleprice, with condition_1 = 1 adding roughly 70k in value and condition_2 adding nearly 200k"
   ]
  },
  {
   "cell_type": "markdown",
   "id": "db6256b9",
   "metadata": {},
   "source": [
    "Get dummies for building type"
   ]
  },
  {
   "cell_type": "code",
   "execution_count": 223,
   "id": "c3906629",
   "metadata": {},
   "outputs": [],
   "source": [
    "housing = pd.get_dummies(housing, columns = ['bldg_type'], drop_first = True)"
   ]
  },
  {
   "cell_type": "markdown",
   "id": "4c43315c",
   "metadata": {},
   "source": [
    "drop house style as it is an overly simplistic cat variable better captured in other variables"
   ]
  },
  {
   "cell_type": "code",
   "execution_count": 224,
   "id": "7039b850",
   "metadata": {},
   "outputs": [],
   "source": [
    "housing.drop(columns = ['house_style'], inplace = True)"
   ]
  },
  {
   "cell_type": "markdown",
   "id": "cf2441d9",
   "metadata": {},
   "source": [
    "overall quality and condition"
   ]
  },
  {
   "cell_type": "code",
   "execution_count": 225,
   "id": "e8838517",
   "metadata": {
    "scrolled": true
   },
   "outputs": [
    {
     "data": {
      "text/plain": [
       "Text(0, 0.5, 'Count')"
      ]
     },
     "execution_count": 225,
     "metadata": {},
     "output_type": "execute_result"
    },
    {
     "data": {
      "image/png": "[encoded data removed]",
      "text/plain": [
       "<Figure size 432x288 with 1 Axes>"
      ]
     },
     "metadata": {
      "needs_background": "light"
     },
     "output_type": "display_data"
    }
   ],
   "source": [
    "plt.hist(housing['overall_qual'])\n",
    "plt.title('Distribution of Overall Quality')\n",
    "plt.xlabel('Overall Quality (1-10 scale)')\n",
    "plt.ylabel('Count')"
   ]
  },
  {
   "cell_type": "code",
   "execution_count": 226,
   "id": "15187c71",
   "metadata": {},
   "outputs": [
    {
     "data": {
      "text/plain": [
       "overall_qual\n",
       "1      48725.000000\n",
       "2      51081.000000\n",
       "3      81309.103448\n",
       "4     107744.037736\n",
       "5     134963.644760\n",
       "6     162891.102767\n",
       "7     203430.285383\n",
       "8     271437.044000\n",
       "9     370197.376623\n",
       "10    417396.565217\n",
       "Name: saleprice, dtype: float64"
      ]
     },
     "execution_count": 226,
     "metadata": {},
     "output_type": "execute_result"
    }
   ],
   "source": [
    "a.groupby('overall_qual')['saleprice'].mean()"
   ]
  },
  {
   "cell_type": "code",
   "execution_count": 227,
   "id": "d597c665",
   "metadata": {
    "scrolled": true
   },
   "outputs": [
    {
     "data": {
      "text/plain": [
       "Text(0, 0.5, 'Count')"
      ]
     },
     "execution_count": 227,
     "metadata": {},
     "output_type": "execute_result"
    },
    {
     "data": {
      "image/png": "[encoded data removed]",
      "text/plain": [
       "<Figure size 432x288 with 1 Axes>"
      ]
     },
     "metadata": {
      "needs_background": "light"
     },
     "output_type": "display_data"
    }
   ],
   "source": [
    "plt.hist(housing['overall_cond'])\n",
    "plt.title('Distribution of Overall Condition')\n",
    "plt.xlabel('Condition (1-10 scale)')\n",
    "plt.ylabel('Count')"
   ]
  },
  {
   "cell_type": "code",
   "execution_count": 228,
   "id": "a39e14da",
   "metadata": {
    "scrolled": false
   },
   "outputs": [
    {
     "data": {
      "text/plain": [
       "5    0.564356\n",
       "6    0.181973\n",
       "7    0.133151\n",
       "8    0.049164\n",
       "4    0.034483\n",
       "3    0.017071\n",
       "9    0.013998\n",
       "2    0.003414\n",
       "1    0.002390\n",
       "Name: overall_cond, dtype: float64"
      ]
     },
     "execution_count": 228,
     "metadata": {},
     "output_type": "execute_result"
    }
   ],
   "source": [
    "housing['overall_cond'].value_counts(normalize = True)"
   ]
  },
  {
   "cell_type": "markdown",
   "id": "1daf1cc5",
   "metadata": {},
   "source": [
    "Nearly 60% of all observations are coded with a 5 out of 10 for overall condition, with almost all of the data receiving a 5 or higher. This is likely because assessors are unwilling to score a property with less than a 5 except in the most extreme circumstances. Because of this I will create a bool for if a house receives less than a 5, which will likely lower its value significantly. On the other hand, overall condition is a much more normally distributed variable that seems increase value more linearly. "
   ]
  },
  {
   "cell_type": "markdown",
   "id": "75a1e35e",
   "metadata": {},
   "source": [
    "Create a bool for condition where condition = 1 means the house is in 5 or greater shape"
   ]
  },
  {
   "cell_type": "code",
   "execution_count": 229,
   "id": "f3adbf35",
   "metadata": {},
   "outputs": [],
   "source": [
    "housing['overall_cond'] = housing['overall_cond'].apply(\n",
    "    lambda x: 0 if x < 5 else 1)"
   ]
  },
  {
   "cell_type": "markdown",
   "id": "c1ea4ae8",
   "metadata": {},
   "source": [
    "bool for roof style 1 if hip, flat, or shed"
   ]
  },
  {
   "cell_type": "code",
   "execution_count": 230,
   "id": "339329a2",
   "metadata": {
    "scrolled": true
   },
   "outputs": [
    {
     "data": {
      "text/plain": [
       "roof_style\n",
       "Flat       191613.076923\n",
       "Gable      171264.253243\n",
       "Gambrel    138208.333333\n",
       "Hip        224366.654912\n",
       "Mansard    152642.857143\n",
       "Shed       208666.666667\n",
       "Name: saleprice, dtype: float64"
      ]
     },
     "execution_count": 230,
     "metadata": {},
     "output_type": "execute_result"
    }
   ],
   "source": [
    "a.groupby('roof_style')['saleprice'].mean()"
   ]
  },
  {
   "cell_type": "code",
   "execution_count": 231,
   "id": "fd3f71b7",
   "metadata": {},
   "outputs": [],
   "source": [
    "housing['roof_style'] = housing['roof_style'].apply(\n",
    "    lambda x: 1 if x in ['Flat','Hip','Shed'] else 0)"
   ]
  },
  {
   "cell_type": "markdown",
   "id": "d0750e8c",
   "metadata": {},
   "source": [
    "Roof mat is such a skewed variable that it doesn't make sense to make estimations on so few observations of non composite shingle roofs, and so we drop the variable"
   ]
  },
  {
   "cell_type": "code",
   "execution_count": 232,
   "id": "71a70d31",
   "metadata": {
    "scrolled": true
   },
   "outputs": [
    {
     "data": {
      "text/plain": [
       "Text(0, 0.5, 'Count')"
      ]
     },
     "execution_count": 232,
     "metadata": {},
     "output_type": "execute_result"
    },
    {
     "data": {
      "image/png": "[encoded data removed]",
      "text/plain": [
       "<Figure size 432x288 with 1 Axes>"
      ]
     },
     "metadata": {
      "needs_background": "light"
     },
     "output_type": "display_data"
    }
   ],
   "source": [
    "plt.hist(housing['roof_matl'])\n",
    "plt.title('Distribution of Roof Materials')\n",
    "plt.xlabel('Roof Material')\n",
    "plt.ylabel('Count')"
   ]
  },
  {
   "cell_type": "code",
   "execution_count": 233,
   "id": "e572c471",
   "metadata": {},
   "outputs": [],
   "source": [
    "housing.drop(columns = ['roof_matl'], inplace = True)"
   ]
  },
  {
   "cell_type": "markdown",
   "id": "599c3c61",
   "metadata": {},
   "source": [
    "Bool for external material indicating whether a house has vinyl siding or hard board (both are considered to be the most durable siding options), same for exterior second. we see noticeable differences in sale price for houses that display these desireable traits."
   ]
  },
  {
   "cell_type": "code",
   "execution_count": 234,
   "id": "60a88672",
   "metadata": {},
   "outputs": [
    {
     "data": {
      "text/plain": [
       "exterior_1st\n",
       "AsbShng    103183.333333\n",
       "AsphShn     82375.000000\n",
       "BrkComm    131000.000000\n",
       "BrkFace    193055.093750\n",
       "CBlock      93250.000000\n",
       "CemntBd    243429.088889\n",
       "HdBoard    159582.473333\n",
       "ImStucc    262000.000000\n",
       "MetalSd    154402.048338\n",
       "Plywood    170511.453947\n",
       "Stone      258500.000000\n",
       "Stucco     139712.962963\n",
       "VinylSd    218174.082873\n",
       "Wd Sdng    142940.887681\n",
       "WdShing    155616.822222\n",
       "Name: saleprice, dtype: float64"
      ]
     },
     "execution_count": 234,
     "metadata": {},
     "output_type": "execute_result"
    }
   ],
   "source": [
    "a.groupby('exterior_1st')['saleprice'].mean()"
   ]
  },
  {
   "cell_type": "code",
   "execution_count": 235,
   "id": "9f7ec051",
   "metadata": {},
   "outputs": [
    {
     "data": {
      "text/plain": [
       "VinylSd    1026\n",
       "MetalSd     450\n",
       "HdBoard     442\n",
       "Wd Sdng     420\n",
       "Plywood     221\n",
       "CemntBd     125\n",
       "BrkFace      88\n",
       "WdShing      56\n",
       "AsbShng      44\n",
       "Stucco       43\n",
       "BrkComm       6\n",
       "CBlock        2\n",
       "Stone         2\n",
       "AsphShn       2\n",
       "PreCast       1\n",
       "ImStucc       1\n",
       "Name: exterior_1st, dtype: int64"
      ]
     },
     "execution_count": 235,
     "metadata": {},
     "output_type": "execute_result"
    }
   ],
   "source": [
    "housing['exterior_1st'].value_counts()"
   ]
  },
  {
   "cell_type": "code",
   "execution_count": 236,
   "id": "54cbbc42",
   "metadata": {},
   "outputs": [],
   "source": [
    "housing['exterior_1st'] = housing['exterior_1st'].apply(\n",
    "    lambda x: 1 if x in ['VinylSd', 'HdBoard'] else 0)\n",
    "\n",
    "housing['exterior_2nd'] = housing['exterior_2nd'].apply(\n",
    "    lambda x: 1 if x in ['VinylSd', 'HdBoard'] else 0)\n"
   ]
  },
  {
   "cell_type": "markdown",
   "id": "e48e58a2",
   "metadata": {},
   "source": [
    "Dummy for external quality being either excellent or good "
   ]
  },
  {
   "cell_type": "code",
   "execution_count": 237,
   "id": "ebe0cbaf",
   "metadata": {},
   "outputs": [],
   "source": [
    "housing['exter_qual'] = housing['exter_qual'].apply(\n",
    "    lambda x: 1 if x == 'Ex' or x == 'Gd' else 0)"
   ]
  },
  {
   "cell_type": "markdown",
   "id": "2dad8d0f",
   "metadata": {},
   "source": [
    "Dummy for foundation type 1 = poured concrete"
   ]
  },
  {
   "cell_type": "code",
   "execution_count": 238,
   "id": "7f834d19",
   "metadata": {},
   "outputs": [
    {
     "data": {
      "text/plain": [
       "foundation\n",
       "BrkTil    129050.190045\n",
       "CBlock    148415.530707\n",
       "PConc     227676.483801\n",
       "Slab      108810.676471\n",
       "Stone     143235.200000\n",
       "Wood      173750.000000\n",
       "Name: saleprice, dtype: float64"
      ]
     },
     "execution_count": 238,
     "metadata": {},
     "output_type": "execute_result"
    }
   ],
   "source": [
    "a.groupby('foundation')['saleprice'].mean()"
   ]
  },
  {
   "cell_type": "code",
   "execution_count": 239,
   "id": "d4ddd89c",
   "metadata": {},
   "outputs": [
    {
     "data": {
      "text/plain": [
       "PConc     1309\n",
       "CBlock    1244\n",
       "BrkTil     311\n",
       "Slab        49\n",
       "Stone       11\n",
       "Wood         5\n",
       "Name: foundation, dtype: int64"
      ]
     },
     "execution_count": 239,
     "metadata": {},
     "output_type": "execute_result"
    }
   ],
   "source": [
    "housing['foundation'].value_counts()"
   ]
  },
  {
   "cell_type": "code",
   "execution_count": 240,
   "id": "95bfbac5",
   "metadata": {},
   "outputs": [],
   "source": [
    "housing['foundation'] = housing['foundation'].apply(\n",
    "    lambda x: 1 if x =='PConc' else 0)"
   ]
  },
  {
   "cell_type": "markdown",
   "id": "59d7ef21",
   "metadata": {},
   "source": [
    "bool for basement quality good or excellent = 1"
   ]
  },
  {
   "cell_type": "code",
   "execution_count": 241,
   "id": "7f140b8f",
   "metadata": {},
   "outputs": [
    {
     "data": {
      "text/plain": [
       "bsmt_qual\n",
       "Ex    329506.619565\n",
       "Fa    107752.166667\n",
       "Gd    202537.582176\n",
       "Po     89000.000000\n",
       "TA    139988.461105\n",
       "Name: saleprice, dtype: float64"
      ]
     },
     "execution_count": 241,
     "metadata": {},
     "output_type": "execute_result"
    }
   ],
   "source": [
    "a.groupby('bsmt_qual')['saleprice'].mean()"
   ]
  },
  {
   "cell_type": "code",
   "execution_count": 242,
   "id": "e6d0a15b",
   "metadata": {
    "scrolled": false
   },
   "outputs": [
    {
     "data": {
      "text/plain": [
       "TA    1283\n",
       "Gd    1219\n",
       "Ex     257\n",
       "Fa      88\n",
       "Po       2\n",
       "Name: bsmt_qual, dtype: int64"
      ]
     },
     "execution_count": 242,
     "metadata": {},
     "output_type": "execute_result"
    }
   ],
   "source": [
    "housing['bsmt_qual'].value_counts()"
   ]
  },
  {
   "cell_type": "code",
   "execution_count": 243,
   "id": "0f1439ab",
   "metadata": {},
   "outputs": [],
   "source": [
    "housing['bsmt_qual'] = housing['bsmt_qual'].apply(\n",
    "    lambda x: 1 if x in ['Gd','Ex'] else 0)"
   ]
  },
  {
   "cell_type": "markdown",
   "id": "d465414e",
   "metadata": {},
   "source": [
    "Basement condition is very poorly distributed and does not appear to have a massive impact on sale price, and so we can drop the variable. "
   ]
  },
  {
   "cell_type": "code",
   "execution_count": 244,
   "id": "6fde8048",
   "metadata": {
    "scrolled": true
   },
   "outputs": [
    {
     "data": {
      "text/plain": [
       "bsmt_cond\n",
       "Ex    195000.000000\n",
       "Fa    118629.076923\n",
       "Gd    223969.550562\n",
       "Po    124063.200000\n",
       "TA    184021.858233\n",
       "Name: saleprice, dtype: float64"
      ]
     },
     "execution_count": 244,
     "metadata": {},
     "output_type": "execute_result"
    }
   ],
   "source": [
    "a.groupby('bsmt_cond')['saleprice'].mean()"
   ]
  },
  {
   "cell_type": "code",
   "execution_count": 245,
   "id": "45d291d0",
   "metadata": {
    "scrolled": true
   },
   "outputs": [
    {
     "data": {
      "text/plain": [
       "TA    2615\n",
       "Gd     122\n",
       "Fa     104\n",
       "Po       5\n",
       "Ex       3\n",
       "Name: bsmt_cond, dtype: int64"
      ]
     },
     "execution_count": 245,
     "metadata": {},
     "output_type": "execute_result"
    }
   ],
   "source": [
    "housing['bsmt_cond'].value_counts()"
   ]
  },
  {
   "cell_type": "code",
   "execution_count": 246,
   "id": "b99dd22b",
   "metadata": {},
   "outputs": [],
   "source": [
    "housing.drop(columns = ['bsmt_cond'], inplace = True)"
   ]
  },
  {
   "cell_type": "markdown",
   "id": "4d80a539",
   "metadata": {},
   "source": [
    "Dummy for excellent heating quality, 1 = excellent"
   ]
  },
  {
   "cell_type": "code",
   "execution_count": 247,
   "id": "93973f74",
   "metadata": {},
   "outputs": [
    {
     "data": {
      "text/plain": [
       "Ex    1494\n",
       "TA     864\n",
       "Gd     476\n",
       "Fa      92\n",
       "Po       3\n",
       "Name: heating_qc, dtype: int64"
      ]
     },
     "execution_count": 247,
     "metadata": {},
     "output_type": "execute_result"
    }
   ],
   "source": [
    "housing['heating_qc'].value_counts()"
   ]
  },
  {
   "cell_type": "code",
   "execution_count": 248,
   "id": "3616d192",
   "metadata": {},
   "outputs": [],
   "source": [
    "housing = pd.get_dummies(housing, columns = ['heating_qc'], drop_first= True)"
   ]
  },
  {
   "cell_type": "code",
   "execution_count": 249,
   "id": "143038d1",
   "metadata": {},
   "outputs": [],
   "source": [
    "housing.drop(columns = ['heating_qc_Gd',\n",
    "                       'heating_qc_TA',\n",
    "                       'heating_qc_Fa',\n",
    "                       'heating_qc_Po'], axis = 1, inplace = True)"
   ]
  },
  {
   "cell_type": "markdown",
   "id": "7c493891",
   "metadata": {},
   "source": [
    "Drop garage year built since it has a high degree of multicolinearity with year built"
   ]
  },
  {
   "cell_type": "code",
   "execution_count": 250,
   "id": "fc184bf7",
   "metadata": {},
   "outputs": [],
   "source": [
    "housing.drop(columns = ['garage_yr_blt'], axis = 1, inplace = True)"
   ]
  },
  {
   "cell_type": "markdown",
   "id": "bcbf0638",
   "metadata": {},
   "source": [
    "Create a dummy for garage finish, combining rough and finished vs unfinished"
   ]
  },
  {
   "cell_type": "code",
   "execution_count": 251,
   "id": "61d554b3",
   "metadata": {},
   "outputs": [],
   "source": [
    "housing['garage_finish'] = housing['garage_finish'].apply(\n",
    "    lambda x: 1 if x in ['Fin', 'Rfn'] else 0)"
   ]
  },
  {
   "cell_type": "markdown",
   "id": "6df5da63",
   "metadata": {},
   "source": [
    "Create a bool for whether a house has a brick or stone facade, zero out the mas_vnr_area variable if it is not brick or stone, drop the material column"
   ]
  },
  {
   "cell_type": "code",
   "execution_count": 252,
   "id": "507f6afc",
   "metadata": {},
   "outputs": [
    {
     "data": {
      "text/plain": [
       "mas_vnr_type\n",
       "BrkCmn     144515.692308\n",
       "BrkFace    212161.436508\n",
       "None       153679.275862\n",
       "Stone      263714.702381\n",
       "Name: saleprice, dtype: float64"
      ]
     },
     "execution_count": 252,
     "metadata": {},
     "output_type": "execute_result"
    }
   ],
   "source": [
    "a.groupby('mas_vnr_type')['saleprice'].mean()"
   ]
  },
  {
   "cell_type": "code",
   "execution_count": 253,
   "id": "7d807fdb",
   "metadata": {
    "scrolled": false
   },
   "outputs": [
    {
     "data": {
      "text/plain": [
       "None       1752\n",
       "BrkFace     880\n",
       "Stone       248\n",
       "BrkCmn       25\n",
       "CBlock        1\n",
       "Name: mas_vnr_type, dtype: int64"
      ]
     },
     "execution_count": 253,
     "metadata": {},
     "output_type": "execute_result"
    }
   ],
   "source": [
    "housing['mas_vnr_type'].value_counts()"
   ]
  },
  {
   "cell_type": "code",
   "execution_count": 254,
   "id": "b97a6c92",
   "metadata": {},
   "outputs": [],
   "source": [
    "housing['mas_vnr_type'] = housing['mas_vnr_type'].apply(\n",
    "    lambda x: 1 if x in ['BrkFace', 'Stone'] else 0)"
   ]
  },
  {
   "cell_type": "markdown",
   "id": "6fb24295",
   "metadata": {},
   "source": [
    "Drop external cond variable because of distribution issues and also multicolinearity"
   ]
  },
  {
   "cell_type": "code",
   "execution_count": 255,
   "id": "317afd65",
   "metadata": {},
   "outputs": [],
   "source": [
    "housing.drop(columns = ['exter_cond'], inplace = True)"
   ]
  },
  {
   "cell_type": "markdown",
   "id": "0f34db92",
   "metadata": {},
   "source": [
    "Electrical bool for standard circuit breaker or not"
   ]
  },
  {
   "cell_type": "code",
   "execution_count": 256,
   "id": "278f7f87",
   "metadata": {
    "scrolled": false
   },
   "outputs": [],
   "source": [
    "housing['electrical'] = housing['electrical'].apply(\n",
    "    lambda x: 1 if x == 'SBrkr' else 0)"
   ]
  },
  {
   "cell_type": "markdown",
   "id": "6110e5c7",
   "metadata": {},
   "source": [
    "Drop functional column as very few houses receive anything more than a minor deduction"
   ]
  },
  {
   "cell_type": "code",
   "execution_count": 257,
   "id": "4b0be7de",
   "metadata": {
    "scrolled": false
   },
   "outputs": [
    {
     "data": {
      "text/plain": [
       "functional\n",
       "Maj1    163106.166667\n",
       "Maj2     87157.714286\n",
       "Min1    154429.761905\n",
       "Min2    150424.571429\n",
       "Mod     148108.724138\n",
       "Sal      31550.000000\n",
       "Sev      95750.000000\n",
       "Typ     183954.749347\n",
       "Name: saleprice, dtype: float64"
      ]
     },
     "execution_count": 257,
     "metadata": {},
     "output_type": "execute_result"
    }
   ],
   "source": [
    "a.groupby('functional')['saleprice'].mean()"
   ]
  },
  {
   "cell_type": "code",
   "execution_count": 258,
   "id": "548d319a",
   "metadata": {},
   "outputs": [
    {
     "data": {
      "text/plain": [
       "Typ     2727\n",
       "Min2      70\n",
       "Min1      65\n",
       "Mod       35\n",
       "Maj1      19\n",
       "Maj2       9\n",
       "Sal        2\n",
       "Sev        2\n",
       "Name: functional, dtype: int64"
      ]
     },
     "execution_count": 258,
     "metadata": {},
     "output_type": "execute_result"
    }
   ],
   "source": [
    "housing['functional'].value_counts()"
   ]
  },
  {
   "cell_type": "code",
   "execution_count": 259,
   "id": "d384da6b",
   "metadata": {},
   "outputs": [],
   "source": [
    "housing.drop(columns = ['functional'], inplace = True)"
   ]
  },
  {
   "cell_type": "markdown",
   "id": "e77e8358",
   "metadata": {},
   "source": [
    "Drop heating variable as basically the entire dataset is GasA"
   ]
  },
  {
   "cell_type": "code",
   "execution_count": 260,
   "id": "1ae3248f",
   "metadata": {
    "scrolled": false
   },
   "outputs": [
    {
     "data": {
      "text/plain": [
       "GasA     2884\n",
       "GasW       27\n",
       "Grav        9\n",
       "Wall        6\n",
       "OthW        2\n",
       "Floor       1\n",
       "Name: heating, dtype: int64"
      ]
     },
     "execution_count": 260,
     "metadata": {},
     "output_type": "execute_result"
    }
   ],
   "source": [
    "housing['heating'].value_counts()"
   ]
  },
  {
   "cell_type": "code",
   "execution_count": 261,
   "id": "8bba8b8a",
   "metadata": {},
   "outputs": [],
   "source": [
    "housing.drop(columns = ['heating'], inplace = True)"
   ]
  },
  {
   "cell_type": "markdown",
   "id": "087571b3",
   "metadata": {},
   "source": [
    "Drop sale type, most of the data is warranty deed, and the next largest category is new construction which is captured by year built and sale date. "
   ]
  },
  {
   "cell_type": "code",
   "execution_count": 262,
   "id": "5ff80778",
   "metadata": {},
   "outputs": [
    {
     "data": {
      "text/plain": [
       "WD       2536\n",
       "New       238\n",
       "COD        87\n",
       "ConLD      26\n",
       "CWD        12\n",
       "ConLI       9\n",
       "ConLw       8\n",
       "Oth         7\n",
       "Con         5\n",
       "VWD         1\n",
       "Name: sale_type, dtype: int64"
      ]
     },
     "execution_count": 262,
     "metadata": {},
     "output_type": "execute_result"
    }
   ],
   "source": [
    "housing['sale_type'].value_counts()"
   ]
  },
  {
   "cell_type": "code",
   "execution_count": 263,
   "id": "1b5c3f9a",
   "metadata": {
    "scrolled": true
   },
   "outputs": [],
   "source": [
    "housing.drop(columns = ['sale_type'], inplace = True)"
   ]
  },
  {
   "cell_type": "markdown",
   "id": "59de2d37",
   "metadata": {},
   "source": [
    "Create a bool for if a kitchen is good or excellent, since these seem to increase the value of a house signficantly"
   ]
  },
  {
   "cell_type": "code",
   "execution_count": 264,
   "id": "51489cec",
   "metadata": {
    "scrolled": true
   },
   "outputs": [
    {
     "data": {
      "text/plain": [
       "TA    1494\n",
       "Gd    1160\n",
       "Ex     204\n",
       "Fa      70\n",
       "Po       1\n",
       "Name: kitchen_qual, dtype: int64"
      ]
     },
     "execution_count": 264,
     "metadata": {},
     "output_type": "execute_result"
    }
   ],
   "source": [
    "housing['kitchen_qual'].value_counts()"
   ]
  },
  {
   "cell_type": "code",
   "execution_count": 265,
   "id": "8ba211dd",
   "metadata": {
    "scrolled": true
   },
   "outputs": [
    {
     "data": {
      "text/plain": [
       "kitchen_qual\n",
       "Ex    336424.463576\n",
       "Fa    101334.957447\n",
       "Gd    211629.451613\n",
       "TA    139501.607450\n",
       "Name: saleprice, dtype: float64"
      ]
     },
     "execution_count": 265,
     "metadata": {},
     "output_type": "execute_result"
    }
   ],
   "source": [
    "a.groupby('kitchen_qual')['saleprice'].mean()"
   ]
  },
  {
   "cell_type": "code",
   "execution_count": 266,
   "id": "7762db5f",
   "metadata": {},
   "outputs": [],
   "source": [
    "housing['kitchen_qual'] = housing['kitchen_qual'].apply(\n",
    "    lambda x: 1  if x in ['Gd','Ex'] else 0)"
   ]
  },
  {
   "cell_type": "markdown",
   "id": "71368f02",
   "metadata": {},
   "source": [
    "Create a bool for paved driveway since having a paved driveway seems to increase the value of a home"
   ]
  },
  {
   "cell_type": "code",
   "execution_count": 267,
   "id": "f1938f68",
   "metadata": {},
   "outputs": [
    {
     "data": {
      "text/plain": [
       "paved_drive\n",
       "N    104562.827815\n",
       "P    129824.461538\n",
       "Y    188792.163890\n",
       "Name: saleprice, dtype: float64"
      ]
     },
     "execution_count": 267,
     "metadata": {},
     "output_type": "execute_result"
    }
   ],
   "source": [
    "a.groupby('paved_drive')['saleprice'].mean()"
   ]
  },
  {
   "cell_type": "code",
   "execution_count": 268,
   "id": "65bd7a50",
   "metadata": {
    "scrolled": true
   },
   "outputs": [
    {
     "data": {
      "text/plain": [
       "Y    2651\n",
       "N     216\n",
       "P      62\n",
       "Name: paved_drive, dtype: int64"
      ]
     },
     "execution_count": 268,
     "metadata": {},
     "output_type": "execute_result"
    }
   ],
   "source": [
    "housing['paved_drive'].value_counts()"
   ]
  },
  {
   "cell_type": "code",
   "execution_count": 269,
   "id": "eac10f73",
   "metadata": {},
   "outputs": [],
   "source": [
    "housing['paved_drive'] = housing['paved_drive'].apply(\n",
    "    lambda x: 1 if x == 'Y' else 0)"
   ]
  },
  {
   "cell_type": "markdown",
   "id": "b67b1152",
   "metadata": {},
   "source": [
    "Drop fireplace quality and the unnecessary garage columns "
   ]
  },
  {
   "cell_type": "code",
   "execution_count": 270,
   "id": "b318e3e2",
   "metadata": {},
   "outputs": [],
   "source": [
    "housing.drop(columns = ['fireplace_qu','garage_att','garage_qual',\n",
    "                        'garage_cond'], inplace = True)"
   ]
  },
  {
   "cell_type": "markdown",
   "id": "f78dc255",
   "metadata": {},
   "source": [
    "### Checking Dtypes"
   ]
  },
  {
   "cell_type": "code",
   "execution_count": 271,
   "id": "d97c0c5e",
   "metadata": {
    "scrolled": true
   },
   "outputs": [
    {
     "data": {
      "text/plain": [
       "{'id': dtype('int64'),\n",
       " 'pid': dtype('int64'),\n",
       " 'lot_area': dtype('int64'),\n",
       " 'street': dtype('int64'),\n",
       " 'alley': dtype('int64'),\n",
       " 'lot_shape': dtype('int64'),\n",
       " 'land_contour': dtype('int64'),\n",
       " 'utilities': dtype('int64'),\n",
       " 'condition_1': dtype('int64'),\n",
       " 'condition_2': dtype('int64'),\n",
       " 'overall_qual': dtype('int64'),\n",
       " 'overall_cond': dtype('int64'),\n",
       " 'year_built': dtype('int64'),\n",
       " 'year_remod/add': dtype('int64'),\n",
       " 'roof_style': dtype('int64'),\n",
       " 'exterior_1st': dtype('int64'),\n",
       " 'exterior_2nd': dtype('int64'),\n",
       " 'mas_vnr_type': dtype('int64'),\n",
       " 'mas_vnr_area': dtype('float64'),\n",
       " 'exter_qual': dtype('int64'),\n",
       " 'foundation': dtype('int64'),\n",
       " 'bsmt_qual': dtype('int64'),\n",
       " 'total_bsmt_sf': dtype('float64'),\n",
       " 'central_air': dtype('int64'),\n",
       " 'electrical': dtype('int64'),\n",
       " 'low_qual_fin_sf': dtype('int64'),\n",
       " 'gr_liv_area': dtype('int64'),\n",
       " 'bedroom_abvgr': dtype('int64'),\n",
       " 'kitchen_abvgr': dtype('int64'),\n",
       " 'kitchen_qual': dtype('int64'),\n",
       " 'totrms_abvgrd': dtype('int64'),\n",
       " 'fireplaces': dtype('int64'),\n",
       " 'garage_finish': dtype('int64'),\n",
       " 'garage_area': dtype('float64'),\n",
       " 'paved_drive': dtype('int64'),\n",
       " 'fence': dtype('int64'),\n",
       " 'misc_val': dtype('int64'),\n",
       " 'mo_sold': dtype('int64'),\n",
       " 'yr_sold': dtype('int64'),\n",
       " 'saleprice': dtype('O'),\n",
       " 'deck_space': dtype('int64'),\n",
       " 'has_pool': dtype('int64'),\n",
       " 'corner_lot': dtype('int64'),\n",
       " 'half_bath_tot': dtype('float64'),\n",
       " 'full_bath_tot': dtype('float64'),\n",
       " 'finished_bsmt_sqft': dtype('float64'),\n",
       " 'neighborhood_Blueste': dtype('uint8'),\n",
       " 'neighborhood_BrDale': dtype('uint8'),\n",
       " 'neighborhood_BrkSide': dtype('uint8'),\n",
       " 'neighborhood_ClearCr': dtype('uint8'),\n",
       " 'neighborhood_CollgCr': dtype('uint8'),\n",
       " 'neighborhood_Crawfor': dtype('uint8'),\n",
       " 'neighborhood_Edwards': dtype('uint8'),\n",
       " 'neighborhood_Gilbert': dtype('uint8'),\n",
       " 'neighborhood_Greens': dtype('uint8'),\n",
       " 'neighborhood_GrnHill': dtype('uint8'),\n",
       " 'neighborhood_IDOTRR': dtype('uint8'),\n",
       " 'neighborhood_Landmrk': dtype('uint8'),\n",
       " 'neighborhood_MeadowV': dtype('uint8'),\n",
       " 'neighborhood_Mitchel': dtype('uint8'),\n",
       " 'neighborhood_NAmes': dtype('uint8'),\n",
       " 'neighborhood_NPkVill': dtype('uint8'),\n",
       " 'neighborhood_NWAmes': dtype('uint8'),\n",
       " 'neighborhood_NoRidge': dtype('uint8'),\n",
       " 'neighborhood_NridgHt': dtype('uint8'),\n",
       " 'neighborhood_OldTown': dtype('uint8'),\n",
       " 'neighborhood_SWISU': dtype('uint8'),\n",
       " 'neighborhood_Sawyer': dtype('uint8'),\n",
       " 'neighborhood_SawyerW': dtype('uint8'),\n",
       " 'neighborhood_Somerst': dtype('uint8'),\n",
       " 'neighborhood_StoneBr': dtype('uint8'),\n",
       " 'neighborhood_Timber': dtype('uint8'),\n",
       " 'neighborhood_Veenker': dtype('uint8'),\n",
       " 'bldg_type_2fmCon': dtype('uint8'),\n",
       " 'bldg_type_Duplex': dtype('uint8'),\n",
       " 'bldg_type_Twnhs': dtype('uint8'),\n",
       " 'bldg_type_TwnhsE': dtype('uint8')}"
      ]
     },
     "execution_count": 271,
     "metadata": {},
     "output_type": "execute_result"
    }
   ],
   "source": [
    "housing.dtypes.to_dict()"
   ]
  },
  {
   "cell_type": "markdown",
   "id": "06724619",
   "metadata": {},
   "source": [
    "### Splitting the DF into train and test again"
   ]
  },
  {
   "cell_type": "code",
   "execution_count": 272,
   "id": "0ad5ccc8",
   "metadata": {},
   "outputs": [],
   "source": [
    "#There are 3 rows with null values, all in the train data, so we drop them. \n",
    "\n",
    "housing.dropna(inplace = True)"
   ]
  },
  {
   "cell_type": "code",
   "execution_count": 273,
   "id": "1324973f",
   "metadata": {
    "scrolled": true
   },
   "outputs": [
    {
     "name": "stderr",
     "output_type": "stream",
     "text": [
      "<ipython-input-273-1e7c7f05f88c>:2: SettingWithCopyWarning: \n",
      "A value is trying to be set on a copy of a slice from a DataFrame.\n",
      "Try using .loc[row_indexer,col_indexer] = value instead\n",
      "\n",
      "See the caveats in the documentation: https://pandas.pydata.org/pandas-docs/stable/user_guide/indexing.html#returning-a-view-versus-a-copy\n",
      "  train['saleprice'] = pd.to_numeric(train['saleprice'])\n"
     ]
    }
   ],
   "source": [
    "train = housing[housing['saleprice'] != 'TEST']\n",
    "train['saleprice'] = pd.to_numeric(train['saleprice'])\n",
    "test = housing[housing['saleprice'] == 'TEST']"
   ]
  },
  {
   "cell_type": "code",
   "execution_count": 274,
   "id": "9401c65c",
   "metadata": {},
   "outputs": [],
   "source": [
    "train.to_csv('../datasets/housing_cleaned.csv')\n",
    "test.to_csv('../datasets/test_cleaned.csv')"
   ]
  },
  {
   "cell_type": "code",
   "execution_count": 275,
   "id": "8018c0ea",
   "metadata": {},
   "outputs": [
    {
     "data": {
      "text/plain": [
       "(878, 78)"
      ]
     },
     "execution_count": 275,
     "metadata": {},
     "output_type": "execute_result"
    }
   ],
   "source": [
    "test = pd.read_csv('../datasets/test_cleaned.csv')\n",
    "test.shape"
   ]
  },
  {
   "cell_type": "code",
   "execution_count": 276,
   "id": "7b18dbfa",
   "metadata": {
    "scrolled": true
   },
   "outputs": [
    {
     "data": {
      "text/plain": [
       "{'id': 0,\n",
       " 'pid': 0,\n",
       " 'lot_area': 0,\n",
       " 'street': 0,\n",
       " 'alley': 0,\n",
       " 'lot_shape': 0,\n",
       " 'land_contour': 0,\n",
       " 'utilities': 0,\n",
       " 'condition_1': 0,\n",
       " 'condition_2': 0,\n",
       " 'overall_qual': 0,\n",
       " 'overall_cond': 0,\n",
       " 'year_built': 0,\n",
       " 'year_remod/add': 0,\n",
       " 'roof_style': 0,\n",
       " 'exterior_1st': 0,\n",
       " 'exterior_2nd': 0,\n",
       " 'mas_vnr_type': 0,\n",
       " 'mas_vnr_area': 0,\n",
       " 'exter_qual': 0,\n",
       " 'foundation': 0,\n",
       " 'bsmt_qual': 0,\n",
       " 'total_bsmt_sf': 0,\n",
       " 'central_air': 0,\n",
       " 'electrical': 0,\n",
       " 'low_qual_fin_sf': 0,\n",
       " 'gr_liv_area': 0,\n",
       " 'bedroom_abvgr': 0,\n",
       " 'kitchen_abvgr': 0,\n",
       " 'kitchen_qual': 0,\n",
       " 'totrms_abvgrd': 0,\n",
       " 'fireplaces': 0,\n",
       " 'garage_finish': 0,\n",
       " 'garage_area': 0,\n",
       " 'paved_drive': 0,\n",
       " 'fence': 0,\n",
       " 'misc_val': 0,\n",
       " 'mo_sold': 0,\n",
       " 'yr_sold': 0,\n",
       " 'saleprice': 0,\n",
       " 'deck_space': 0,\n",
       " 'has_pool': 0,\n",
       " 'corner_lot': 0,\n",
       " 'half_bath_tot': 0,\n",
       " 'full_bath_tot': 0,\n",
       " 'finished_bsmt_sqft': 0,\n",
       " 'neighborhood_Blueste': 0,\n",
       " 'neighborhood_BrDale': 0,\n",
       " 'neighborhood_BrkSide': 0,\n",
       " 'neighborhood_ClearCr': 0,\n",
       " 'neighborhood_CollgCr': 0,\n",
       " 'neighborhood_Crawfor': 0,\n",
       " 'neighborhood_Edwards': 0,\n",
       " 'neighborhood_Gilbert': 0,\n",
       " 'neighborhood_Greens': 0,\n",
       " 'neighborhood_GrnHill': 0,\n",
       " 'neighborhood_IDOTRR': 0,\n",
       " 'neighborhood_Landmrk': 0,\n",
       " 'neighborhood_MeadowV': 0,\n",
       " 'neighborhood_Mitchel': 0,\n",
       " 'neighborhood_NAmes': 0,\n",
       " 'neighborhood_NPkVill': 0,\n",
       " 'neighborhood_NWAmes': 0,\n",
       " 'neighborhood_NoRidge': 0,\n",
       " 'neighborhood_NridgHt': 0,\n",
       " 'neighborhood_OldTown': 0,\n",
       " 'neighborhood_SWISU': 0,\n",
       " 'neighborhood_Sawyer': 0,\n",
       " 'neighborhood_SawyerW': 0,\n",
       " 'neighborhood_Somerst': 0,\n",
       " 'neighborhood_StoneBr': 0,\n",
       " 'neighborhood_Timber': 0,\n",
       " 'neighborhood_Veenker': 0,\n",
       " 'bldg_type_2fmCon': 0,\n",
       " 'bldg_type_Duplex': 0,\n",
       " 'bldg_type_Twnhs': 0,\n",
       " 'bldg_type_TwnhsE': 0}"
      ]
     },
     "execution_count": 276,
     "metadata": {},
     "output_type": "execute_result"
    }
   ],
   "source": [
    "housing.isnull().sum().to_dict()"
   ]
  },
  {
   "cell_type": "markdown",
   "id": "63bfc320",
   "metadata": {},
   "source": [
    "# Dealing with Outliers"
   ]
  },
  {
   "cell_type": "markdown",
   "id": "e707fc83",
   "metadata": {},
   "source": [
    "#### there are a few obvious outliers that the data dictionary warns us about, so we will examine those first. "
   ]
  },
  {
   "cell_type": "code",
   "execution_count": 277,
   "id": "05e9cbd9",
   "metadata": {},
   "outputs": [],
   "source": [
    "train = pd.read_csv('../datasets/housing_cleaned.csv')"
   ]
  },
  {
   "cell_type": "code",
   "execution_count": 278,
   "id": "c16038d2",
   "metadata": {},
   "outputs": [
    {
     "data": {
      "text/plain": [
       "<matplotlib.collections.PathCollection at 0x26de7119760>"
      ]
     },
     "execution_count": 278,
     "metadata": {},
     "output_type": "execute_result"
    },
    {
     "data": {
      "image/png": "[encoded data removed]",
      "text/plain": [
       "<Figure size 432x288 with 1 Axes>"
      ]
     },
     "metadata": {
      "needs_background": "light"
     },
     "output_type": "display_data"
    }
   ],
   "source": [
    "plt.scatter(train['gr_liv_area'], train['saleprice'])"
   ]
  },
  {
   "cell_type": "markdown",
   "id": "45615280",
   "metadata": {},
   "source": [
    "The data dictionary provided with this exercise suggests removing houses with more than 4000 SQFT of area, and I am inclined to agree with them."
   ]
  },
  {
   "cell_type": "code",
   "execution_count": 279,
   "id": "b791605c",
   "metadata": {},
   "outputs": [],
   "source": [
    "train = train[train['gr_liv_area'] < 4000]"
   ]
  },
  {
   "cell_type": "code",
   "execution_count": 280,
   "id": "4cfc954c",
   "metadata": {},
   "outputs": [
    {
     "data": {
      "text/plain": [
       "Text(0, 0.5, 'Count')"
      ]
     },
     "execution_count": 280,
     "metadata": {},
     "output_type": "execute_result"
    },
    {
     "data": {
      "image/png": "[encoded data removed]",
      "text/plain": [
       "<Figure size 432x288 with 1 Axes>"
      ]
     },
     "metadata": {
      "needs_background": "light"
     },
     "output_type": "display_data"
    }
   ],
   "source": [
    "plt.hist(train['gr_liv_area'])\n",
    "plt.title('Training Data Distribution of Above Grade Square Footage')\n",
    "plt.xlabel('Square Footage')\n",
    "plt.ylabel('Count')"
   ]
  },
  {
   "cell_type": "code",
   "execution_count": 281,
   "id": "f7bcd530",
   "metadata": {
    "scrolled": false
   },
   "outputs": [
    {
     "data": {
      "text/plain": [
       "Text(0, 0.5, 'Count')"
      ]
     },
     "execution_count": 281,
     "metadata": {},
     "output_type": "execute_result"
    },
    {
     "data": {
      "image/png": "[encoded data removed]",
      "text/plain": [
       "<Figure size 432x288 with 1 Axes>"
      ]
     },
     "metadata": {
      "needs_background": "light"
     },
     "output_type": "display_data"
    }
   ],
   "source": [
    "plt.hist(test['gr_liv_area'])\n",
    "plt.title('Test Data Distribution of Above Grade Square Footage')\n",
    "plt.xlabel('Square Footage')\n",
    "plt.ylabel('Count')"
   ]
  },
  {
   "cell_type": "code",
   "execution_count": 282,
   "id": "8db589f8",
   "metadata": {
    "scrolled": true
   },
   "outputs": [
    {
     "data": {
      "text/plain": [
       "Text(0, 0.5, 'Count')"
      ]
     },
     "execution_count": 282,
     "metadata": {},
     "output_type": "execute_result"
    },
    {
     "data": {
      "image/png": "[encoded data removed]",
      "text/plain": [
       "<Figure size 432x288 with 1 Axes>"
      ]
     },
     "metadata": {
      "needs_background": "light"
     },
     "output_type": "display_data"
    }
   ],
   "source": [
    "plt.hist(train['saleprice'])\n",
    "plt.title('Distribution of Sale Price')\n",
    "plt.xlabel('Sale Price ($)')\n",
    "plt.ylabel('Count')"
   ]
  },
  {
   "cell_type": "markdown",
   "id": "fddfc3bb",
   "metadata": {},
   "source": [
    "Removing outliers for sale price (outlier being defined as > 3 std devs from mean)"
   ]
  },
  {
   "cell_type": "code",
   "execution_count": 283,
   "id": "65c8db78",
   "metadata": {},
   "outputs": [
    {
     "data": {
      "text/plain": [
       "count      2047.000000\n",
       "mean     181478.655594\n",
       "std       79269.463865\n",
       "min       12789.000000\n",
       "25%      129825.000000\n",
       "50%      162500.000000\n",
       "75%      214000.000000\n",
       "max      611657.000000\n",
       "Name: saleprice, dtype: float64"
      ]
     },
     "execution_count": 283,
     "metadata": {},
     "output_type": "execute_result"
    }
   ],
   "source": [
    "train['saleprice'].describe()"
   ]
  },
  {
   "cell_type": "code",
   "execution_count": 284,
   "id": "27aac2e0",
   "metadata": {},
   "outputs": [],
   "source": [
    "# sale_std = 79269.46\n",
    "\n",
    "# upper_bound = train['saleprice'].mean() + (3 * sale_std)\n",
    "\n",
    "# train = train[train['saleprice'] < upper_bound]"
   ]
  },
  {
   "cell_type": "markdown",
   "id": "ca71d880",
   "metadata": {},
   "source": [
    "Initially I wanted to drop the highest value \"outlier\" houses in terms of sale price, as I thought that including really expensive homes in my dataset would hinder my model's ability to accurately predict the majority of the data. Ultimately removing the outliers actually reduced the performance of my model in terms of RMSE on the testing data, so I elected to include these outliers."
   ]
  },
  {
   "cell_type": "code",
   "execution_count": 285,
   "id": "3f5a91d9",
   "metadata": {},
   "outputs": [
    {
     "data": {
      "text/plain": [
       "(2047, 78)"
      ]
     },
     "execution_count": 285,
     "metadata": {},
     "output_type": "execute_result"
    }
   ],
   "source": [
    "train.shape"
   ]
  },
  {
   "cell_type": "code",
   "execution_count": 286,
   "id": "b00d27b3",
   "metadata": {},
   "outputs": [],
   "source": [
    "train.to_csv('../datasets/housing_cleaned.csv', index = False)"
   ]
  },
  {
   "cell_type": "code",
   "execution_count": 287,
   "id": "e840480a",
   "metadata": {},
   "outputs": [
    {
     "name": "stdout",
     "output_type": "stream",
     "text": [
      "done!\n"
     ]
    }
   ],
   "source": [
    "print('done!')"
   ]
  },
  {
   "cell_type": "code",
   "execution_count": null,
   "id": "afa1e778",
   "metadata": {},
   "outputs": [],
   "source": []
  }
 ],
 "metadata": {
  "kernelspec": {
   "display_name": "Python 3",
   "language": "python",
   "name": "python3"
  },
  "language_info": {
   "codemirror_mode": {
    "name": "ipython",
    "version": 3
   },
   "file_extension": ".py",
   "mimetype": "text/x-python",
   "name": "python",
   "nbconvert_exporter": "python",
   "pygments_lexer": "ipython3",
   "version": "3.8.8"
  }
 },
 "nbformat": 4,
 "nbformat_minor": 5
}
